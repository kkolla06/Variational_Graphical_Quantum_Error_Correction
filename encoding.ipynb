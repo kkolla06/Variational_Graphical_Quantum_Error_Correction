{
 "cells": [
  {
   "cell_type": "code",
   "execution_count": 93,
   "metadata": {},
   "outputs": [],
   "source": [
    "import pennylane as qml\n",
    "from pennylane import numpy as np\n"
   ]
  },
  {
   "cell_type": "code",
   "execution_count": 94,
   "metadata": {},
   "outputs": [],
   "source": [
    "def prep_state():\n",
    "    qml.Hadamard(wires=0)\n"
   ]
  },
  {
   "cell_type": "code",
   "execution_count": 144,
   "metadata": {},
   "outputs": [],
   "source": [
    "def encoding_map_repetition(wires):\n",
    "    for wire in wires[1:]:\n",
    "        qml.CNOT(wires=[0, wire])\n",
    "    for wire in wires:\n",
    "        qml.Hadamard(wires=wire)"
   ]
  },
  {
   "cell_type": "code",
   "execution_count": 96,
   "metadata": {},
   "outputs": [
    {
     "name": "stdout",
     "output_type": "stream",
     "text": [
      "0: ──H─╭●─╭●──H─┤  \n",
      "1: ────╰X─│───H─┤  \n",
      "2: ───────╰X──H─┤  \n"
     ]
    }
   ],
   "source": [
    "dev3_rep = qml.device(\"default.qubit\", wires=3)\n",
    "print(qml.draw(encoding_map_repetition)(dev3_rep.wires))"
   ]
  },
  {
   "cell_type": "code",
   "execution_count": 97,
   "metadata": {},
   "outputs": [],
   "source": [
    "def variational_circuit_3(alpha, wires):\n",
    "    for wire in wires:\n",
    "        qml.Hadamard(wires=wire)\n",
    "\n",
    "    qml.IsingZZ(alpha, wires=[2, 0])\n",
    "    qml.IsingZZ(alpha, wires=[0, 1])\n",
    "    qml.IsingZZ(alpha, wires=[1, 2])"
   ]
  },
  {
   "cell_type": "code",
   "execution_count": 142,
   "metadata": {},
   "outputs": [],
   "source": [
    "# dev3_VGQEC = qml.device(\"default.qubit\", wires=3)\n",
    "def VGQEC_3_encoding(alpha, wires):\n",
    "    qml.Hadamard(wires=0)  \n",
    "    A = (1.0 + np.exp(1j * alpha)) / 2.0\n",
    "    B = (1.0 - np.exp(1j * alpha)) / 2.0\n",
    "    ancillas = np.array([A, 0, 0, B], dtype=complex)\n",
    "    qml.MottonenStatePreparation(ancillas, wires=[1, 2])\n",
    "\n",
    "    qml.CNOT(wires=[0, 1])\n",
    "    qml.CNOT(wires=[0, 2])\n",
    "\n",
    "\n"
   ]
  },
  {
   "cell_type": "code",
   "execution_count": 140,
   "metadata": {},
   "outputs": [
    {
     "name": "stdout",
     "output_type": "stream",
     "text": [
      "[0.35355339+0.35355339j 0.        +0.j         0.        +0.j\n",
      " 0.35355339-0.35355339j 0.35355339-0.35355339j 0.        +0.j\n",
      " 0.        +0.j         0.35355339+0.35355339j]\n"
     ]
    }
   ],
   "source": [
    "dev3 = qml.device(\"default.qubit\", wires=3)\n",
    "@qml.qnode(dev3)\n",
    "def VGQEC_3(alpha, wires):\n",
    "    VGQEC_3_encoding(alpha, wires)\n",
    "\n",
    "    return qml.state()\n",
    "\n",
    "print(VGQEC_3(np.pi/2, dev3.wires))"
   ]
  },
  {
   "cell_type": "code",
   "execution_count": 120,
   "metadata": {},
   "outputs": [
    {
     "name": "stdout",
     "output_type": "stream",
     "text": [
      "[ 0.5       +0.j          0.        +0.j          0.        +0.j\n",
      "  0.35355339+0.35355339j  0.5       +0.j          0.        +0.j\n",
      "  0.        +0.j         -0.35355339-0.35355339j]\n"
     ]
    }
   ],
   "source": [
    "print(VGQEC_3(0, np.pi/2, dev3.wires))"
   ]
  },
  {
   "cell_type": "code",
   "execution_count": 10,
   "metadata": {},
   "outputs": [
    {
     "name": "stdout",
     "output_type": "stream",
     "text": [
      "0: ──H─╭●─╭●─╭●─╭●─┤  \n",
      "1: ────╰X─│──│──│──┤  \n",
      "2: ───────╰X─│──│──┤  \n",
      "3: ──────────╰X─│──┤  \n",
      "4: ─────────────╰X─┤  \n"
     ]
    }
   ],
   "source": [
    "dev5_rep = qml.device(\"default.qubit\", wires=5)\n",
    "print(qml.draw(encoding_map_repetition)(dev5_rep.wires))"
   ]
  },
  {
   "cell_type": "code",
   "execution_count": 110,
   "metadata": {},
   "outputs": [],
   "source": [
    "def encoding_map_513(wires):\n",
    "    encoding_map_repetition(wires)\n",
    "    qml.IsingZZ(-np.pi/2, wires=[4, 0])\n",
    "    qml.IsingZZ(-np.pi/2, wires=[0, 1])\n",
    "    qml.IsingZZ(-np.pi/2, wires=[1, 2])\n",
    "    qml.IsingZZ(-np.pi/2, wires=[2, 3])\n",
    "    qml.IsingZZ(-np.pi/2, wires=[3, 4])"
   ]
  },
  {
   "cell_type": "code",
   "execution_count": 111,
   "metadata": {},
   "outputs": [
    {
     "name": "stdout",
     "output_type": "stream",
     "text": [
      "0: ──H─╭●─╭●─╭●─╭●──H─╭IsingZZ(-1.57)─╭IsingZZ(-1.57)────────────────────────────────\n",
      "1: ────╰X─│──│──│───H─│───────────────╰IsingZZ(-1.57)─╭IsingZZ(-1.57)────────────────\n",
      "2: ───────╰X─│──│───H─│───────────────────────────────╰IsingZZ(-1.57)─╭IsingZZ(-1.57)\n",
      "3: ──────────╰X─│───H─│───────────────────────────────────────────────╰IsingZZ(-1.57)\n",
      "4: ─────────────╰X──H─╰IsingZZ(-1.57)────────────────────────────────────────────────\n",
      "\n",
      "──────────────────┤  \n",
      "──────────────────┤  \n",
      "──────────────────┤  \n",
      "──╭IsingZZ(-1.57)─┤  \n",
      "──╰IsingZZ(-1.57)─┤  \n"
     ]
    }
   ],
   "source": [
    "dev5_513 = qml.device(\"default.qubit\", wires=5)\n",
    "print(qml.draw(encoding_map_513)(dev5_513.wires))\n"
   ]
  },
  {
   "cell_type": "code",
   "execution_count": 112,
   "metadata": {},
   "outputs": [],
   "source": [
    "def Variation_circuit_5(wires, alpha):\n",
    "    for wire in wires:\n",
    "        qml.RZ(alpha[0], wires=wire)\n",
    "\n",
    "    qml.IsingZZ(alpha[1], wires=[0, 1])\n",
    "    qml.IsingZZ(alpha[1], wires=[3, 4])\n",
    "\n",
    "    qml.RX(alpha[2], wires=1)\n",
    "    qml.RX(alpha[2], wires=3)\n",
    "\n",
    "    qml.IsingZZ(alpha[1], wires=[1, 2])\n",
    "    qml.IsingZZ(alpha[1], wires=[2, 3])\n",
    "\n",
    "    qml.RX(alpha[2], wires=2)\n",
    "\n",
    "    qml.IsingZZ(alpha[1], wires=[1, 2])\n",
    "    qml.IsingZZ(alpha[1], wires=[2, 3])\n",
    "\n",
    "    qml.RX(alpha[2], wires=1)\n",
    "    qml.RX(alpha[2], wires=3)\n",
    "\n",
    "    qml.IsingZZ(alpha[1], wires=[0, 1])\n",
    "    qml.IsingZZ(alpha[1], wires=[1, 2])\n",
    "    qml.IsingZZ(alpha[1], wires=[2, 3])\n",
    "    qml.IsingZZ(alpha[1], wires=[3, 4])\n",
    "\n",
    "    qml.RX(alpha[2], wires=0)\n",
    "    qml.RX(alpha[2], wires=2)\n",
    "    qml.RX(alpha[2], wires=4)\n",
    "\n",
    "    qml.IsingZZ(alpha[1], wires=[1, 2])\n",
    "    qml.IsingZZ(alpha[1], wires=[2, 3])\n",
    "\n",
    "    qml.RX(alpha[2], wires=1)\n",
    "    qml.RX(alpha[2], wires=2)\n",
    "    qml.RX(alpha[2], wires=3)\n",
    "\n",
    "    qml.IsingZZ(alpha[1], wires=[1, 2])\n",
    "    qml.IsingZZ(alpha[1], wires=[2, 3])\n",
    "\n",
    "    qml.RX(alpha[2], wires=2)\n",
    "\n",
    "    qml.IsingZZ(alpha[1], wires=[1, 2])\n",
    "    qml.IsingZZ(alpha[1], wires=[2, 3])\n",
    "\n",
    "    qml.RX(alpha[2], wires=1)\n",
    "    qml.RX(alpha[2], wires=3)\n",
    "\n",
    "    qml.IsingZZ(alpha[1], wires=[0, 1])\n",
    "    qml.IsingZZ(alpha[1], wires=[3, 4])\n",
    "\n",
    "    qml.RX(alpha[2], wires=1)\n",
    "    qml.RX(alpha[2], wires=3)\n",
    "\n",
    "    qml.IsingZZ(alpha[1], wires=[1, 2])\n",
    "    qml.IsingZZ(alpha[1], wires=[2, 3])  \n",
    "\n",
    "    qml.RX(alpha[2], wires=2)\n",
    "\n",
    "    qml.IsingZZ(alpha[1], wires=[1, 2])\n",
    "    qml.IsingZZ(alpha[1], wires=[2, 3])  \n",
    "\n",
    "    qml.RX(alpha[2], wires=1)\n",
    "    qml.RX(alpha[2], wires=3)\n",
    "\n",
    "    qml.IsingZZ(alpha[1], wires=[0, 1])\n",
    "    qml.IsingZZ(alpha[1], wires=[3, 4])\n",
    "    \n",
    "    qml.RX(alpha[2], wires=0)\n",
    "    qml.RX(alpha[2], wires=4)\n",
    "\n",
    "    for wire in wires:\n",
    "        qml.RZ(alpha[0], wires=wire)"
   ]
  },
  {
   "cell_type": "code",
   "execution_count": null,
   "metadata": {},
   "outputs": [],
   "source": [
    "dev5_VGQEC = qml.device(\"default.qubit\", wires=5)\n",
    "def VGQEC_5_encoding(wires, alpha):\n",
    "    encoding_map_repetition(wires)\n",
    "    qml.IsingZZ(-np.pi/2, wires=[4, 0])\n",
    "    qml.IsingZZ(-np.pi/2, wires=[0, 1])\n",
    "    qml.IsingZZ(-np.pi/2, wires=[1, 2])\n",
    "    qml.IsingZZ(-np.pi/2, wires=[2, 3])\n",
    "    qml.IsingZZ(-np.pi/2, wires=[3, 4])\n",
    "    Variation_circuit_5(wires, alpha)"
   ]
  },
  {
   "cell_type": "code",
   "execution_count": 107,
   "metadata": {},
   "outputs": [
    {
     "name": "stdout",
     "output_type": "stream",
     "text": [
      "0: ──H─╭●─╭●─╭●─╭●──H─╭IsingZZ(-1.57)─╭IsingZZ(-1.57)──RZ(3.14)──────────────────────\n",
      "1: ────╰X─│──│──│───H─│───────────────╰IsingZZ(-1.57)─╭IsingZZ(-1.57)──RZ(3.14)──────\n",
      "2: ───────╰X─│──│───H─│───────────────────────────────╰IsingZZ(-1.57)─╭IsingZZ(-1.57)\n",
      "3: ──────────╰X─│───H─│───────────────────────────────────────────────╰IsingZZ(-1.57)\n",
      "4: ─────────────╰X──H─╰IsingZZ(-1.57)────────────────────────────────────────────────\n",
      "\n",
      "──╭IsingZZ(3.14)────────────────────────────────────────────────────────────────────────────\n",
      "──╰IsingZZ(3.14)───RX(3.14)─╭IsingZZ(3.14)────────────────────────────────────╭IsingZZ(3.14)\n",
      "───RZ(3.14)─────────────────╰IsingZZ(3.14)───────────╭IsingZZ(3.14)──RX(3.14)─╰IsingZZ(3.14)\n",
      "──╭IsingZZ(-1.57)──RZ(3.14)─╭IsingZZ(3.14)──RX(3.14)─╰IsingZZ(3.14)─────────────────────────\n",
      "──╰IsingZZ(-1.57)──RZ(3.14)─╰IsingZZ(3.14)──────────────────────────────────────────────────\n",
      "\n",
      "─────────────────╭IsingZZ(3.14)──RX(3.14)──────────────────────────────────────────────────\n",
      "───RX(3.14)──────╰IsingZZ(3.14)─╭IsingZZ(3.14)───────────────────────────────╭IsingZZ(3.14)\n",
      "──╭IsingZZ(3.14)────────────────╰IsingZZ(3.14)─╭IsingZZ(3.14)──RX(3.14)──────╰IsingZZ(3.14)\n",
      "──╰IsingZZ(3.14)──RX(3.14)─────────────────────╰IsingZZ(3.14)─╭IsingZZ(3.14)───────────────\n",
      "──────────────────────────────────────────────────────────────╰IsingZZ(3.14)──RX(3.14)─────\n",
      "\n",
      "────────────────────────────────────────────────────────────────────────────────────────────────\n",
      "───RX(3.14)────────────────╭IsingZZ(3.14)──────────────────────────╭IsingZZ(3.14)──RX(3.14)─────\n",
      "──╭IsingZZ(3.14)──RX(3.14)─╰IsingZZ(3.14)─╭IsingZZ(3.14)──RX(3.14)─╰IsingZZ(3.14)─╭IsingZZ(3.14)\n",
      "──╰IsingZZ(3.14)──RX(3.14)────────────────╰IsingZZ(3.14)──────────────────────────╰IsingZZ(3.14)\n",
      "────────────────────────────────────────────────────────────────────────────────────────────────\n",
      "\n",
      "──╭IsingZZ(3.14)──────────────────────────────────────────────────────────────────────\n",
      "──╰IsingZZ(3.14)──RX(3.14)──────╭IsingZZ(3.14)──────────────────────────╭IsingZZ(3.14)\n",
      "────────────────────────────────╰IsingZZ(3.14)─╭IsingZZ(3.14)──RX(3.14)─╰IsingZZ(3.14)\n",
      "───RX(3.14)──────╭IsingZZ(3.14)──RX(3.14)──────╰IsingZZ(3.14)─────────────────────────\n",
      "─────────────────╰IsingZZ(3.14)───────────────────────────────────────────────────────\n",
      "\n",
      "─────────────────╭IsingZZ(3.14)──RX(3.14)───────RZ(3.14)───────────┤  \n",
      "───RX(3.14)──────╰IsingZZ(3.14)──RZ(3.14)──────────────────────────┤  \n",
      "──╭IsingZZ(3.14)──RZ(3.14)─────────────────────────────────────────┤  \n",
      "──╰IsingZZ(3.14)──RX(3.14)──────╭IsingZZ(3.14)──RZ(3.14)───────────┤  \n",
      "────────────────────────────────╰IsingZZ(3.14)──RX(3.14)──RZ(3.14)─┤  \n"
     ]
    }
   ],
   "source": [
    "print(qml.draw(VGQEC_5_encoding)(dev5_VGQEC.wires, [np.pi, np.pi, np.pi]))"
   ]
  },
  {
   "cell_type": "code",
   "execution_count": 80,
   "metadata": {},
   "outputs": [],
   "source": [
    "def repetition_code_recovery_3(wires):\n",
    "    for wire in wires:\n",
    "        qml.Hadamard(wires=wire)\n",
    "    qml.CNOT(wires=[0, 2])\n",
    "    qml.CNOT(wires=[0, 1])\n",
    "    qml.Toffoli(wires=[2, 1, 0])\n"
   ]
  },
  {
   "cell_type": "code",
   "execution_count": 147,
   "metadata": {},
   "outputs": [
    {
     "name": "stdout",
     "output_type": "stream",
     "text": [
      "0: ─╭●─╭●──H──AmplitudeDamping(0.10)──H─╭●─╭●─╭X─┤  State\n",
      "1: ─╰X─│───H──H─────────────────────────│──╰X─├●─┤       \n",
      "2: ────╰X──H──H─────────────────────────╰X────╰●─┤       \n"
     ]
    }
   ],
   "source": [
    "dev3_rep_circuit = qml.device(\"default.mixed\", wires=3)\n",
    "@qml.qnode(dev3_rep_circuit)\n",
    "def circuit_3(wires, alpha):\n",
    "    #encoding\n",
    "    encoding_map_repetition(wires)\n",
    "    #noise\n",
    "    qml.AmplitudeDamping(0.1, wires=0)\n",
    "    #decoding\n",
    "    repetition_code_recovery_3(wires)\n",
    "    return qml.density_matrix(wires=0)\n",
    "    \n",
    "print(qml.draw(circuit_3)(dev3_rep_circuit.wires, 0.9))\n"
   ]
  },
  {
   "cell_type": "code",
   "execution_count": 148,
   "metadata": {},
   "outputs": [
    {
     "name": "stdout",
     "output_type": "stream",
     "text": [
      "[[1.+0.j 0.+0.j]\n",
      " [0.+0.j 0.+0.j]]\n"
     ]
    }
   ],
   "source": [
    "print(circuit_3(dev3_rep_circuit.wires, 0.1))"
   ]
  },
  {
   "cell_type": "code",
   "execution_count": 85,
   "metadata": {},
   "outputs": [],
   "source": [
    "def repetition_code_recovery_5(wires):\n",
    "    for wire in wires:\n",
    "        qml.Hadamard(wires=wire)\n",
    "    qml.CNOT(wires=[0, 4])\n",
    "    qml.CNOT(wires=[0, 3])\n",
    "    qml.CNOT(wires=[0, 2])\n",
    "    qml.CNOT(wires=[0, 1])\n",
    "\n",
    "    qml.MultiControlledX(control_wires=[1, 2, 3], wires=0)\n",
    "    qml.MultiControlledX(control_wires=[4, 3, 1], wires=0)\n",
    "    qml.MultiControlledX(control_wires=[4, 3, 2], wires=0)\n",
    "    qml.MultiControlledX(control_wires=[4, 2, 1], wires=0)\n",
    "    qml.MultiControlledX(control_wires=[4, 3, 2, 1], wires=0)"
   ]
  },
  {
   "cell_type": "code",
   "execution_count": 90,
   "metadata": {},
   "outputs": [
    {
     "name": "stdout",
     "output_type": "stream",
     "text": [
      "0: ─╭●─╭●─╭●─╭●──H──Z──H─╭●─╭●─╭●─╭●─╭X─╭X─╭X─╭X─╭X─┤  State\n",
      "1: ─╰X─│──│──│───H──H────│──│──│──╰X─├●─├●─│──├●─├●─┤       \n",
      "2: ────╰X─│──│───H──H────│──│──╰X────├●─│──├●─├●─├●─┤       \n",
      "3: ───────╰X─│───H──H────│──╰X───────╰●─├●─├●─│──├●─┤       \n",
      "4: ──────────╰X──H──H────╰X─────────────╰●─╰●─╰●─╰●─┤       \n"
     ]
    }
   ],
   "source": [
    "dev5_rep_circuit = qml.device(\"default.mixed\", wires=5)\n",
    "@qml.qnode(dev5_rep_circuit)\n",
    "def circuit_5(wires, alpha):\n",
    "    encoding_map_repetition(wires)\n",
    "    # qml.AmplitudeDamping(alpha, wires=[0])\n",
    "    #noise\n",
    "    qml.PauliZ(wires=0)\n",
    "    #recovery\n",
    "    repetition_code_recovery_5(wires)\n",
    "    \n",
    "    return qml.density_matrix(wires=0)\n",
    "\n",
    "print(qml.draw(circuit_5)(dev5_rep_circuit.wires, 0.1))\n"
   ]
  },
  {
   "cell_type": "code",
   "execution_count": 91,
   "metadata": {},
   "outputs": [
    {
     "name": "stdout",
     "output_type": "stream",
     "text": [
      "[[1.+0.j 0.+0.j]\n",
      " [0.+0.j 0.+0.j]]\n"
     ]
    }
   ],
   "source": [
    "print(circuit_5(dev5_rep_circuit.wires, 0.1))"
   ]
  },
  {
   "cell_type": "code",
   "execution_count": 20,
   "metadata": {},
   "outputs": [],
   "source": [
    "# dev_var = qml.device(\"default.qubit\", wires=5)\n",
    "# def encoding_variational(params):\n",
    "#     for wire in dev_var.wires:\n",
    "#         qml.RZ(params[0], wires=wire)\n",
    "\n",
    "#     qml.IsingZZ(params[1], wires=[0, 1])\n",
    "#     qml.IsingZZ(params[1], wires=[3, 4])\n",
    "\n",
    "#     qml.RX(params[2], wires=1)\n",
    "#     qml.RX(params[2], wires=3)\n",
    "\n",
    "#     qml.IsingZZ(params[1], wires=[1, 2])\n",
    "#     qml.IsingZZ(params[1], wires=[2, 3])\n",
    "\n",
    "#     qml.RX(params[2], wires=2)\n",
    "\n",
    "#     qml.IsingZZ(params[1], wires=[1, 2])\n",
    "#     qml.IsingZZ(params[1], wires=[2, 3])\n",
    "\n",
    "#     qml.RX(params[2], wires=1)\n",
    "#     qml.RX(params[2], wires=3)\n",
    "\n",
    "#     qml.IsingZZ(params[1], wires=[0, 1])\n",
    "#     qml.IsingZZ(params[1], wires=[1, 2])\n",
    "#     qml.IsingZZ(params[1], wires=[2, 3])\n",
    "#     qml.IsingZZ(params[1], wires=[3, 4])\n",
    "\n",
    "#     qml.RX(params[2], wires=0)\n",
    "#     qml.RX(params[2], wires=2)\n",
    "#     qml.RX(params[2], wires=4)\n",
    "\n",
    "#     qml.IsingZZ(params[1], wires=[1, 2])\n",
    "#     qml.IsingZZ(params[1], wires=[2, 3])\n",
    "\n",
    "#     qml.RX(params[2], wires=1)\n",
    "#     qml.RX(params[2], wires=2)\n",
    "#     qml.RX(params[2], wires=3)\n",
    "\n",
    "#     qml.IsingZZ(params[1], wires=[1, 2])\n",
    "#     qml.IsingZZ(params[1], wires=[2, 3])\n",
    "\n",
    "#     qml.RX(params[2], wires=2)\n",
    "\n",
    "#     qml.IsingZZ(params[1], wires=[1, 2])\n",
    "#     qml.IsingZZ(params[1], wires=[2, 3])\n",
    "\n",
    "#     qml.RX(params[2], wires=1)\n",
    "#     qml.RX(params[2], wires=3)\n",
    "\n",
    "#     qml.IsingZZ(params[1], wires=[0, 1])\n",
    "#     qml.IsingZZ(params[1], wires=[3, 4])\n",
    "\n",
    "#     qml.RX(params[2], wires=1)\n",
    "#     qml.RX(params[2], wires=3)\n",
    "\n",
    "#     qml.IsingZZ(params[1], wires=[1, 2])\n",
    "#     qml.IsingZZ(params[1], wires=[2, 3])  \n",
    "\n",
    "#     qml.RX(params[2], wires=2)\n",
    "\n",
    "#     qml.IsingZZ(params[1], wires=[1, 2])\n",
    "#     qml.IsingZZ(params[1], wires=[2, 3])  \n",
    "\n",
    "#     qml.RX(params[2], wires=1)\n",
    "#     qml.RX(params[2], wires=3)\n",
    "\n",
    "#     qml.IsingZZ(params[1], wires=[0, 1])\n",
    "#     qml.IsingZZ(params[1], wires=[3, 4])\n",
    "    \n",
    "#     qml.RX(params[2], wires=0)\n",
    "#     qml.RX(params[2], wires=4)\n",
    "\n",
    "#     for wire in dev_var.wires:\n",
    "#         qml.RZ(params[0], wires=wire)\n",
    "\n"
   ]
  },
  {
   "cell_type": "code",
   "execution_count": 27,
   "metadata": {},
   "outputs": [],
   "source": [
    "# print(qml.draw(encoding_variational)(np.array([0.1, 0.2, 0.3])))"
   ]
  }
 ],
 "metadata": {
  "kernelspec": {
   "display_name": "cpen400",
   "language": "python",
   "name": "python3"
  },
  "language_info": {
   "codemirror_mode": {
    "name": "ipython",
    "version": 3
   },
   "file_extension": ".py",
   "mimetype": "text/x-python",
   "name": "python",
   "nbconvert_exporter": "python",
   "pygments_lexer": "ipython3",
   "version": "3.10.16"
  }
 },
 "nbformat": 4,
 "nbformat_minor": 2
}
