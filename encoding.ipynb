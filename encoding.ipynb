{
 "cells": [
  {
   "cell_type": "code",
   "execution_count": 3,
   "metadata": {},
   "outputs": [],
   "source": [
    "import pennylane as qml\n",
    "from pennylane import numpy as np\n"
   ]
  },
  {
   "cell_type": "code",
   "execution_count": 4,
   "metadata": {},
   "outputs": [],
   "source": [
    "def prep_state():\n",
    "    qml.Hadamard(wires=0)\n"
   ]
  },
  {
   "cell_type": "code",
   "execution_count": 5,
   "metadata": {},
   "outputs": [],
   "source": [
    "def encoding_map_repetition(wires):\n",
    "    for wire in wires[1:]:\n",
    "        qml.CNOT(wires=[0, wire])\n",
    "    for wire in wires:\n",
    "        qml.Hadamard(wires=wire)"
   ]
  },
  {
   "cell_type": "code",
   "execution_count": 6,
   "metadata": {},
   "outputs": [
    {
     "name": "stdout",
     "output_type": "stream",
     "text": [
      "0: ─╭●─╭●──H─┤  \n",
      "1: ─╰X─│───H─┤  \n",
      "2: ────╰X──H─┤  \n"
     ]
    }
   ],
   "source": [
    "dev3_rep = qml.device(\"default.qubit\", wires=3)\n",
    "print(qml.draw(encoding_map_repetition)(dev3_rep.wires))"
   ]
  },
  {
   "cell_type": "code",
   "execution_count": 7,
   "metadata": {},
   "outputs": [],
   "source": [
    "def variational_circuit_3(alpha, wires):\n",
    "    for wire in wires:\n",
    "        qml.Hadamard(wires=wire)\n",
    "\n",
    "    qml.IsingZZ(alpha, wires=[2, 0])\n",
    "    qml.IsingZZ(alpha, wires=[0, 1])\n",
    "    qml.IsingZZ(alpha, wires=[1, 2])"
   ]
  },
  {
   "cell_type": "code",
   "execution_count": 8,
   "metadata": {},
   "outputs": [],
   "source": [
    "# dev3_VGQEC = qml.device(\"default.qubit\", wires=3)\n",
    "def VGQEC_3_encoding(alpha, wires):\n",
    "    qml.Hadamard(wires=0)  \n",
    "    A = (1.0 + np.exp(1j * alpha)) / 2.0\n",
    "    B = (1.0 - np.exp(1j * alpha)) / 2.0\n",
    "    ancillas = np.array([A, 0, 0, B], dtype=complex)\n",
    "    qml.MottonenStatePreparation(ancillas, wires=[1, 2])\n",
    "\n",
    "    qml.CNOT(wires=[0, 1])\n",
    "    qml.CNOT(wires=[0, 2])\n",
    "\n",
    "\n"
   ]
  },
  {
   "cell_type": "code",
   "execution_count": 9,
   "metadata": {},
   "outputs": [
    {
     "name": "stdout",
     "output_type": "stream",
     "text": [
      "[0.35355339+0.35355339j 0.        +0.j         0.        +0.j\n",
      " 0.35355339-0.35355339j 0.35355339-0.35355339j 0.        +0.j\n",
      " 0.        +0.j         0.35355339+0.35355339j]\n"
     ]
    }
   ],
   "source": [
    "dev3 = qml.device(\"default.qubit\", wires=3)\n",
    "@qml.qnode(dev3)\n",
    "def VGQEC_3(alpha, wires):\n",
    "    VGQEC_3_encoding(alpha, wires)\n",
    "\n",
    "    return qml.state()\n",
    "\n",
    "print(VGQEC_3(np.pi/2, dev3.wires))"
   ]
  },
  {
   "cell_type": "code",
   "execution_count": 10,
   "metadata": {},
   "outputs": [
    {
     "ename": "TypeError",
     "evalue": "VGQEC_3() takes 2 positional arguments but 3 were given",
     "output_type": "error",
     "traceback": [
      "\u001b[1;31m---------------------------------------------------------------------------\u001b[0m",
      "\u001b[1;31mTypeError\u001b[0m                                 Traceback (most recent call last)",
      "Cell \u001b[1;32mIn[10], line 1\u001b[0m\n\u001b[1;32m----> 1\u001b[0m \u001b[38;5;28mprint\u001b[39m(\u001b[43mVGQEC_3\u001b[49m\u001b[43m(\u001b[49m\u001b[38;5;241;43m0\u001b[39;49m\u001b[43m,\u001b[49m\u001b[43m \u001b[49m\u001b[43mnp\u001b[49m\u001b[38;5;241;43m.\u001b[39;49m\u001b[43mpi\u001b[49m\u001b[38;5;241;43m/\u001b[39;49m\u001b[38;5;241;43m2\u001b[39;49m\u001b[43m,\u001b[49m\u001b[43m \u001b[49m\u001b[43mdev3\u001b[49m\u001b[38;5;241;43m.\u001b[39;49m\u001b[43mwires\u001b[49m\u001b[43m)\u001b[49m)\n",
      "File \u001b[1;32mc:\\Users\\linab\\anaconda3\\envs\\cpen400\\lib\\site-packages\\pennylane\\workflow\\qnode.py:905\u001b[0m, in \u001b[0;36mQNode.__call__\u001b[1;34m(self, *args, **kwargs)\u001b[0m\n\u001b[0;32m    903\u001b[0m \u001b[38;5;28;01mif\u001b[39;00m qml\u001b[38;5;241m.\u001b[39mcapture\u001b[38;5;241m.\u001b[39menabled():\n\u001b[0;32m    904\u001b[0m     \u001b[38;5;28;01mreturn\u001b[39;00m capture_qnode(\u001b[38;5;28mself\u001b[39m, \u001b[38;5;241m*\u001b[39margs, \u001b[38;5;241m*\u001b[39m\u001b[38;5;241m*\u001b[39mkwargs)\n\u001b[1;32m--> 905\u001b[0m \u001b[38;5;28;01mreturn\u001b[39;00m \u001b[38;5;28mself\u001b[39m\u001b[38;5;241m.\u001b[39m_impl_call(\u001b[38;5;241m*\u001b[39margs, \u001b[38;5;241m*\u001b[39m\u001b[38;5;241m*\u001b[39mkwargs)\n",
      "File \u001b[1;32mc:\\Users\\linab\\anaconda3\\envs\\cpen400\\lib\\site-packages\\pennylane\\workflow\\qnode.py:868\u001b[0m, in \u001b[0;36mQNode._impl_call\u001b[1;34m(self, *args, **kwargs)\u001b[0m\n\u001b[0;32m    865\u001b[0m \u001b[38;5;28;01mdef\u001b[39;00m\u001b[38;5;250m \u001b[39m\u001b[38;5;21m_impl_call\u001b[39m(\u001b[38;5;28mself\u001b[39m, \u001b[38;5;241m*\u001b[39margs, \u001b[38;5;241m*\u001b[39m\u001b[38;5;241m*\u001b[39mkwargs) \u001b[38;5;241m-\u001b[39m\u001b[38;5;241m>\u001b[39m qml\u001b[38;5;241m.\u001b[39mtyping\u001b[38;5;241m.\u001b[39mResult:\n\u001b[0;32m    866\u001b[0m \n\u001b[0;32m    867\u001b[0m     \u001b[38;5;66;03m# construct the tape\u001b[39;00m\n\u001b[1;32m--> 868\u001b[0m     tape \u001b[38;5;241m=\u001b[39m \u001b[38;5;28;43mself\u001b[39;49m\u001b[38;5;241;43m.\u001b[39;49m\u001b[43mconstruct\u001b[49m\u001b[43m(\u001b[49m\u001b[43margs\u001b[49m\u001b[43m,\u001b[49m\u001b[43m \u001b[49m\u001b[43mkwargs\u001b[49m\u001b[43m)\u001b[49m\n\u001b[0;32m    870\u001b[0m     \u001b[38;5;28;01mif\u001b[39;00m \u001b[38;5;28mself\u001b[39m\u001b[38;5;241m.\u001b[39minterface \u001b[38;5;241m==\u001b[39m \u001b[38;5;124m\"\u001b[39m\u001b[38;5;124mauto\u001b[39m\u001b[38;5;124m\"\u001b[39m:\n\u001b[0;32m    871\u001b[0m         interface \u001b[38;5;241m=\u001b[39m qml\u001b[38;5;241m.\u001b[39mmath\u001b[38;5;241m.\u001b[39mget_interface(\u001b[38;5;241m*\u001b[39margs, \u001b[38;5;241m*\u001b[39m\u001b[38;5;28mlist\u001b[39m(kwargs\u001b[38;5;241m.\u001b[39mvalues()))\n",
      "File \u001b[1;32mc:\\Users\\linab\\anaconda3\\envs\\cpen400\\lib\\site-packages\\pennylane\\logging\\decorators.py:61\u001b[0m, in \u001b[0;36mlog_string_debug_func.<locals>.wrapper_entry\u001b[1;34m(*args, **kwargs)\u001b[0m\n\u001b[0;32m     54\u001b[0m     s_caller \u001b[38;5;241m=\u001b[39m \u001b[38;5;124m\"\u001b[39m\u001b[38;5;124m::L\u001b[39m\u001b[38;5;124m\"\u001b[39m\u001b[38;5;241m.\u001b[39mjoin(\n\u001b[0;32m     55\u001b[0m         [\u001b[38;5;28mstr\u001b[39m(i) \u001b[38;5;28;01mfor\u001b[39;00m i \u001b[38;5;129;01min\u001b[39;00m inspect\u001b[38;5;241m.\u001b[39mgetouterframes(inspect\u001b[38;5;241m.\u001b[39mcurrentframe(), \u001b[38;5;241m2\u001b[39m)[\u001b[38;5;241m1\u001b[39m][\u001b[38;5;241m1\u001b[39m:\u001b[38;5;241m3\u001b[39m]]\n\u001b[0;32m     56\u001b[0m     )\n\u001b[0;32m     57\u001b[0m     lgr\u001b[38;5;241m.\u001b[39mdebug(\n\u001b[0;32m     58\u001b[0m         \u001b[38;5;124mf\u001b[39m\u001b[38;5;124m\"\u001b[39m\u001b[38;5;124mCalling \u001b[39m\u001b[38;5;132;01m{\u001b[39;00mf_string\u001b[38;5;132;01m}\u001b[39;00m\u001b[38;5;124m from \u001b[39m\u001b[38;5;132;01m{\u001b[39;00ms_caller\u001b[38;5;132;01m}\u001b[39;00m\u001b[38;5;124m\"\u001b[39m,\n\u001b[0;32m     59\u001b[0m         \u001b[38;5;241m*\u001b[39m\u001b[38;5;241m*\u001b[39m_debug_log_kwargs,\n\u001b[0;32m     60\u001b[0m     )\n\u001b[1;32m---> 61\u001b[0m \u001b[38;5;28;01mreturn\u001b[39;00m func(\u001b[38;5;241m*\u001b[39margs, \u001b[38;5;241m*\u001b[39m\u001b[38;5;241m*\u001b[39mkwargs)\n",
      "File \u001b[1;32mc:\\Users\\linab\\anaconda3\\envs\\cpen400\\lib\\site-packages\\pennylane\\workflow\\qnode.py:854\u001b[0m, in \u001b[0;36mQNode.construct\u001b[1;34m(self, args, kwargs)\u001b[0m\n\u001b[0;32m    852\u001b[0m \u001b[38;5;28;01mwith\u001b[39;00m pldb_device_manager(\u001b[38;5;28mself\u001b[39m\u001b[38;5;241m.\u001b[39mdevice):\n\u001b[0;32m    853\u001b[0m     \u001b[38;5;28;01mwith\u001b[39;00m qml\u001b[38;5;241m.\u001b[39mqueuing\u001b[38;5;241m.\u001b[39mAnnotatedQueue() \u001b[38;5;28;01mas\u001b[39;00m q:\n\u001b[1;32m--> 854\u001b[0m         \u001b[38;5;28mself\u001b[39m\u001b[38;5;241m.\u001b[39m_qfunc_output \u001b[38;5;241m=\u001b[39m \u001b[38;5;28mself\u001b[39m\u001b[38;5;241m.\u001b[39mfunc(\u001b[38;5;241m*\u001b[39margs, \u001b[38;5;241m*\u001b[39m\u001b[38;5;241m*\u001b[39mkwargs)\n\u001b[0;32m    856\u001b[0m tape \u001b[38;5;241m=\u001b[39m QuantumScript\u001b[38;5;241m.\u001b[39mfrom_queue(q, shots)\n\u001b[0;32m    858\u001b[0m params \u001b[38;5;241m=\u001b[39m tape\u001b[38;5;241m.\u001b[39mget_parameters(trainable_only\u001b[38;5;241m=\u001b[39m\u001b[38;5;28;01mFalse\u001b[39;00m)\n",
      "\u001b[1;31mTypeError\u001b[0m: VGQEC_3() takes 2 positional arguments but 3 were given"
     ]
    }
   ],
   "source": [
    "print(VGQEC_3(0, np.pi/2, dev3.wires))"
   ]
  },
  {
   "cell_type": "code",
   "execution_count": 11,
   "metadata": {},
   "outputs": [
    {
     "name": "stdout",
     "output_type": "stream",
     "text": [
      "0: ─╭●─╭●─╭●─╭●──H─┤  \n",
      "1: ─╰X─│──│──│───H─┤  \n",
      "2: ────╰X─│──│───H─┤  \n",
      "3: ───────╰X─│───H─┤  \n",
      "4: ──────────╰X──H─┤  \n"
     ]
    }
   ],
   "source": [
    "dev5_rep = qml.device(\"default.qubit\", wires=5)\n",
    "print(qml.draw(encoding_map_repetition)(dev5_rep.wires))"
   ]
  },
  {
   "cell_type": "code",
   "execution_count": null,
   "metadata": {},
   "outputs": [],
   "source": [
    "# def encoding_map_513(wires):\n",
    "#     # encoding_map_repetition(wires)\n",
    "#     # qml.IsingZZ(-np.pi/2, wires=[4, 0])\n",
    "#     # qml.IsingZZ(-np.pi/2, wires=[0, 1])\n",
    "#     # qml.IsingZZ(-np.pi/2, wires=[1, 2])\n",
    "#     # qml.IsingZZ(-np.pi/2, wires=[2, 3])\n",
    "#     # qml.IsingZZ(-np.pi/2, wires=[3, 4])\n",
    "#     qml.Hadamard(wires=wires[0])\n",
    "#     qml.CNOT(wires=[0, 1])\n",
    "#     qml.CNOT(wires=[0, 2])\n",
    "#     qml.CNOT(wires=[0, 3])\n",
    "#     qml.CNOT(wires=[0, 4])\n",
    "\n",
    "#     qml.Hadamard(wires=wires[1])\n",
    "#     qml.CNOT(wires=[1, 0])\n",
    "#     qml.T(wires=wires[0])\n",
    "#     qml.CNOT(wires=[1, 0])\n",
    "#     qml.T(wires=wires[0])\n",
    "#     qml.Hadamard(wires=wires[1])\n",
    "#     qml.T(wires=wires[0])\n",
    "\n",
    "#     qml.CNOT(wires=[2, 0])\n",
    "#     qml.T(wires=wires[0])\n",
    "#     qml.CNOT(wires=[2, 0])\n",
    "#     qml.T(wires=wires[0])\n",
    "#     qml.S(wires=wires[0])\n",
    "\n",
    "#     qml.Hadamard(wires=wires[2])\n",
    "#     qml.CNOT(wires=[2, 0])\n",
    "#     qml.T(wires=wires[0])\n",
    "#     qml.CNOT(wires=[2, 0])\n",
    "#     qml.T(wires=wires[0])\n",
    "#     qml.Hadamard(wires=wires[2])\n",
    "#     qml.T(wires=wires[0])\n",
    "\n",
    "#     qml.CNOT(wires=[3, 0])\n",
    "#     qml.T(wires=wires[0])\n",
    "#     qml.CNOT(wires=[3, 0])\n",
    "#     qml.T(wires=wires[0])\n",
    "#     qml.S(wires=wires[0])\n",
    "    \n"
   ]
  },
  {
   "cell_type": "code",
   "execution_count": 34,
   "metadata": {},
   "outputs": [],
   "source": [
    "dev5_513 = qml.device(\"default.qubit\", wires=5)\n",
    "@qml.qnode(dev5_513)\n",
    "def circ_5():\n",
    "    encoding_map_513(dev5_513.wires)\n",
    "    return qml.state()"
   ]
  },
  {
   "cell_type": "code",
   "execution_count": 36,
   "metadata": {},
   "outputs": [],
   "source": [
    "import pennylane as qml\n",
    "from pennylane import numpy as np\n",
    "\n",
    "def rz(pi_frac, wire):\n",
    "    qml.RZ(np.pi * pi_frac, wires=wire)\n",
    "\n",
    "def ry(pi_frac, wire):\n",
    "    qml.RY(np.pi * pi_frac, wires=wire)\n",
    "\n",
    "def encoding_map_513_general(wires):\n",
    "    Q1, Q5, Q2, Q4, Q3 = wires\n",
    "\n",
    "    # Step 1: Hadamards and S gate\n",
    "    qml.Hadamard(wires=Q5)\n",
    "    qml.Hadamard(wires=Q2)\n",
    "    qml.Hadamard(wires=Q4)\n",
    "    qml.Hadamard(wires=Q3)\n",
    "    qml.S(wires=Q3)\n",
    "\n",
    "    # Step 2: First round of ZYZ rotations\n",
    "    rz(4/3, Q1); ry(1, Q1); rz(7/6, Q1)\n",
    "    rz(5/6, Q5); ry(1, Q5); rz(7/6, Q5)\n",
    "    rz(5/4, Q2); ry(0.5, Q2); rz(1, Q2)\n",
    "    rz(0.5, Q4); ry(0.5, Q4); rz(0.25, Q4)\n",
    "    rz(0.75, Q3); ry(0.5, Q3); rz(0.5, Q3)\n",
    "\n",
    "    # Step 3: CNOT chain\n",
    "    qml.CNOT(wires=[Q1, Q5])\n",
    "    qml.CNOT(wires=[Q5, Q2])\n",
    "    qml.CNOT(wires=[Q2, Q4])\n",
    "    qml.CNOT(wires=[Q4, Q3])\n",
    "\n",
    "    # Step 4: ZYZ round 2 (some negative Y angles)\n",
    "    rz(1, Q1); ry(-0.5, Q1); rz(0.75, Q1)\n",
    "    rz(1, Q5); ry(-0.5, Q5); rz(0.75, Q5)\n",
    "    rz(1, Q2); ry(-0.5, Q2); rz(0.75, Q2)\n",
    "    rz(0.25, Q4); ry(-0.5, Q4); rz(0.75, Q4)\n",
    "    rz(0.5, Q3); ry(-0.5, Q3); rz(1.25, Q3)\n",
    "\n",
    "    # Step 5: Second CNOT chain\n",
    "    qml.CNOT(wires=[Q1, Q5])\n",
    "    qml.CNOT(wires=[Q5, Q2])\n",
    "    qml.CNOT(wires=[Q2, Q4])\n",
    "    qml.CNOT(wires=[Q4, Q3])\n",
    "\n",
    "    # Step 6: Final rotations\n",
    "    rz(1, Q1); ry(0.5, Q1); rz(1, Q1)\n",
    "    rz(0.75, Q5); ry(0.5, Q5); rz(0.75, Q5)\n",
    "    rz(0.75, Q2); ry(0.5, Q2); rz(1, Q2)\n",
    "    rz(0.75, Q4); ry(0.5, Q4); rz(1.5, Q4)\n"
   ]
  },
  {
   "cell_type": "code",
   "execution_count": 38,
   "metadata": {},
   "outputs": [],
   "source": [
    "dev = qml.device(\"default.qubit\", wires=5)\n",
    "\n",
    "@qml.qnode(dev)\n",
    "def circuit():\n",
    "\n",
    "    encoding_map_513_general(wires=[0, 1, 2, 3, 4])\n",
    "    return qml.state()\n"
   ]
  },
  {
   "cell_type": "code",
   "execution_count": 40,
   "metadata": {},
   "outputs": [
    {
     "name": "stdout",
     "output_type": "stream",
     "text": [
      "[-0.02783789-0.06051009j -0.12868064+0.14559302j -0.00320437+0.0218659j\n",
      " -0.02413609+0.00909207j -0.14320363+0.08908738j -0.20218294+0.32073816j\n",
      " -0.07670666+0.19701104j -0.05577494+0.20978488j -0.0331994 -0.27551666j\n",
      " -0.1274438 -0.07845582j -0.08084521-0.01772735j -0.00917635+0.09198909j\n",
      "  0.10591547+0.06671533j -0.13166663+0.04434328j -0.08506804+0.10507175j\n",
      " -0.1567369 -0.0046447j   0.07730327-0.20998837j -0.01156574-0.08988748j\n",
      " -0.00917635-0.00042186j  0.01131862+0.01072202j  0.02728194-0.07789987j\n",
      " -0.10257702+0.01991325j -0.10018763+0.10937887j -0.12068261+0.09823499j\n",
      " -0.14002801+0.26004461j -0.26128145+0.0361854j  -0.13465263+0.07546983j\n",
      " -0.14857901-0.13425951j -0.00590258-0.32448359j -0.09930325-0.12888413j\n",
      "  0.02732557-0.0895997j   0.04125196+0.12012964j]\n"
     ]
    }
   ],
   "source": [
    "state = circuit()\n",
    "print(state)"
   ]
  },
  {
   "cell_type": "code",
   "execution_count": 13,
   "metadata": {},
   "outputs": [
    {
     "name": "stdout",
     "output_type": "stream",
     "text": [
      "0: ─╭●─╭●─╭●─╭●──H─╭IsingZZ(-1.57)─╭IsingZZ(-1.57)─────────────────────────────────────────────────┤\n",
      "1: ─╰X─│──│──│───H─│───────────────╰IsingZZ(-1.57)─╭IsingZZ(-1.57)─────────────────────────────────┤\n",
      "2: ────╰X─│──│───H─│───────────────────────────────╰IsingZZ(-1.57)─╭IsingZZ(-1.57)─────────────────┤\n",
      "3: ───────╰X─│───H─│───────────────────────────────────────────────╰IsingZZ(-1.57)─╭IsingZZ(-1.57)─┤\n",
      "4: ──────────╰X──H─╰IsingZZ(-1.57)─────────────────────────────────────────────────╰IsingZZ(-1.57)─┤\n",
      "\n",
      "   \n",
      "   \n",
      "   \n",
      "   \n",
      "   \n"
     ]
    }
   ],
   "source": [
    "dev5_513 = qml.device(\"default.qubit\", wires=5)\n",
    "print(qml.draw(encoding_map_513)(dev5_513.wires))\n"
   ]
  },
  {
   "cell_type": "code",
   "execution_count": 112,
   "metadata": {},
   "outputs": [],
   "source": [
    "def Variation_circuit_5(wires, alpha):\n",
    "    for wire in wires:\n",
    "        qml.RZ(alpha[0], wires=wire)\n",
    "\n",
    "    qml.IsingZZ(alpha[1], wires=[0, 1])\n",
    "    qml.IsingZZ(alpha[1], wires=[3, 4])\n",
    "\n",
    "    qml.RX(alpha[2], wires=1)\n",
    "    qml.RX(alpha[2], wires=3)\n",
    "\n",
    "    qml.IsingZZ(alpha[1], wires=[1, 2])\n",
    "    qml.IsingZZ(alpha[1], wires=[2, 3])\n",
    "\n",
    "    qml.RX(alpha[2], wires=2)\n",
    "\n",
    "    qml.IsingZZ(alpha[1], wires=[1, 2])\n",
    "    qml.IsingZZ(alpha[1], wires=[2, 3])\n",
    "\n",
    "    qml.RX(alpha[2], wires=1)\n",
    "    qml.RX(alpha[2], wires=3)\n",
    "\n",
    "    qml.IsingZZ(alpha[1], wires=[0, 1])\n",
    "    qml.IsingZZ(alpha[1], wires=[1, 2])\n",
    "    qml.IsingZZ(alpha[1], wires=[2, 3])\n",
    "    qml.IsingZZ(alpha[1], wires=[3, 4])\n",
    "\n",
    "    qml.RX(alpha[2], wires=0)\n",
    "    qml.RX(alpha[2], wires=2)\n",
    "    qml.RX(alpha[2], wires=4)\n",
    "\n",
    "    qml.IsingZZ(alpha[1], wires=[1, 2])\n",
    "    qml.IsingZZ(alpha[1], wires=[2, 3])\n",
    "\n",
    "    qml.RX(alpha[2], wires=1)\n",
    "    qml.RX(alpha[2], wires=2)\n",
    "    qml.RX(alpha[2], wires=3)\n",
    "\n",
    "    qml.IsingZZ(alpha[1], wires=[1, 2])\n",
    "    qml.IsingZZ(alpha[1], wires=[2, 3])\n",
    "\n",
    "    qml.RX(alpha[2], wires=2)\n",
    "\n",
    "    qml.IsingZZ(alpha[1], wires=[1, 2])\n",
    "    qml.IsingZZ(alpha[1], wires=[2, 3])\n",
    "\n",
    "    qml.RX(alpha[2], wires=1)\n",
    "    qml.RX(alpha[2], wires=3)\n",
    "\n",
    "    qml.IsingZZ(alpha[1], wires=[0, 1])\n",
    "    qml.IsingZZ(alpha[1], wires=[3, 4])\n",
    "\n",
    "    qml.RX(alpha[2], wires=1)\n",
    "    qml.RX(alpha[2], wires=3)\n",
    "\n",
    "    qml.IsingZZ(alpha[1], wires=[1, 2])\n",
    "    qml.IsingZZ(alpha[1], wires=[2, 3])  \n",
    "\n",
    "    qml.RX(alpha[2], wires=2)\n",
    "\n",
    "    qml.IsingZZ(alpha[1], wires=[1, 2])\n",
    "    qml.IsingZZ(alpha[1], wires=[2, 3])  \n",
    "\n",
    "    qml.RX(alpha[2], wires=1)\n",
    "    qml.RX(alpha[2], wires=3)\n",
    "\n",
    "    qml.IsingZZ(alpha[1], wires=[0, 1])\n",
    "    qml.IsingZZ(alpha[1], wires=[3, 4])\n",
    "    \n",
    "    qml.RX(alpha[2], wires=0)\n",
    "    qml.RX(alpha[2], wires=4)\n",
    "\n",
    "    for wire in wires:\n",
    "        qml.RZ(alpha[0], wires=wire)"
   ]
  },
  {
   "cell_type": "code",
   "execution_count": null,
   "metadata": {},
   "outputs": [],
   "source": [
    "dev5_VGQEC = qml.device(\"default.qubit\", wires=5)\n",
    "def VGQEC_5_encoding(wires, alpha):\n",
    "    encoding_map_repetition(wires)\n",
    "    qml.IsingZZ(-np.pi/2, wires=[4, 0])\n",
    "    qml.IsingZZ(-np.pi/2, wires=[0, 1])\n",
    "    qml.IsingZZ(-np.pi/2, wires=[1, 2])\n",
    "    qml.IsingZZ(-np.pi/2, wires=[2, 3])\n",
    "    qml.IsingZZ(-np.pi/2, wires=[3, 4])\n",
    "    Variation_circuit_5(wires, alpha)"
   ]
  },
  {
   "cell_type": "code",
   "execution_count": 107,
   "metadata": {},
   "outputs": [
    {
     "name": "stdout",
     "output_type": "stream",
     "text": [
      "0: ──H─╭●─╭●─╭●─╭●──H─╭IsingZZ(-1.57)─╭IsingZZ(-1.57)──RZ(3.14)──────────────────────\n",
      "1: ────╰X─│──│──│───H─│───────────────╰IsingZZ(-1.57)─╭IsingZZ(-1.57)──RZ(3.14)──────\n",
      "2: ───────╰X─│──│───H─│───────────────────────────────╰IsingZZ(-1.57)─╭IsingZZ(-1.57)\n",
      "3: ──────────╰X─│───H─│───────────────────────────────────────────────╰IsingZZ(-1.57)\n",
      "4: ─────────────╰X──H─╰IsingZZ(-1.57)────────────────────────────────────────────────\n",
      "\n",
      "──╭IsingZZ(3.14)────────────────────────────────────────────────────────────────────────────\n",
      "──╰IsingZZ(3.14)───RX(3.14)─╭IsingZZ(3.14)────────────────────────────────────╭IsingZZ(3.14)\n",
      "───RZ(3.14)─────────────────╰IsingZZ(3.14)───────────╭IsingZZ(3.14)──RX(3.14)─╰IsingZZ(3.14)\n",
      "──╭IsingZZ(-1.57)──RZ(3.14)─╭IsingZZ(3.14)──RX(3.14)─╰IsingZZ(3.14)─────────────────────────\n",
      "──╰IsingZZ(-1.57)──RZ(3.14)─╰IsingZZ(3.14)──────────────────────────────────────────────────\n",
      "\n",
      "─────────────────╭IsingZZ(3.14)──RX(3.14)──────────────────────────────────────────────────\n",
      "───RX(3.14)──────╰IsingZZ(3.14)─╭IsingZZ(3.14)───────────────────────────────╭IsingZZ(3.14)\n",
      "──╭IsingZZ(3.14)────────────────╰IsingZZ(3.14)─╭IsingZZ(3.14)──RX(3.14)──────╰IsingZZ(3.14)\n",
      "──╰IsingZZ(3.14)──RX(3.14)─────────────────────╰IsingZZ(3.14)─╭IsingZZ(3.14)───────────────\n",
      "──────────────────────────────────────────────────────────────╰IsingZZ(3.14)──RX(3.14)─────\n",
      "\n",
      "────────────────────────────────────────────────────────────────────────────────────────────────\n",
      "───RX(3.14)────────────────╭IsingZZ(3.14)──────────────────────────╭IsingZZ(3.14)──RX(3.14)─────\n",
      "──╭IsingZZ(3.14)──RX(3.14)─╰IsingZZ(3.14)─╭IsingZZ(3.14)──RX(3.14)─╰IsingZZ(3.14)─╭IsingZZ(3.14)\n",
      "──╰IsingZZ(3.14)──RX(3.14)────────────────╰IsingZZ(3.14)──────────────────────────╰IsingZZ(3.14)\n",
      "────────────────────────────────────────────────────────────────────────────────────────────────\n",
      "\n",
      "──╭IsingZZ(3.14)──────────────────────────────────────────────────────────────────────\n",
      "──╰IsingZZ(3.14)──RX(3.14)──────╭IsingZZ(3.14)──────────────────────────╭IsingZZ(3.14)\n",
      "────────────────────────────────╰IsingZZ(3.14)─╭IsingZZ(3.14)──RX(3.14)─╰IsingZZ(3.14)\n",
      "───RX(3.14)──────╭IsingZZ(3.14)──RX(3.14)──────╰IsingZZ(3.14)─────────────────────────\n",
      "─────────────────╰IsingZZ(3.14)───────────────────────────────────────────────────────\n",
      "\n",
      "─────────────────╭IsingZZ(3.14)──RX(3.14)───────RZ(3.14)───────────┤  \n",
      "───RX(3.14)──────╰IsingZZ(3.14)──RZ(3.14)──────────────────────────┤  \n",
      "──╭IsingZZ(3.14)──RZ(3.14)─────────────────────────────────────────┤  \n",
      "──╰IsingZZ(3.14)──RX(3.14)──────╭IsingZZ(3.14)──RZ(3.14)───────────┤  \n",
      "────────────────────────────────╰IsingZZ(3.14)──RX(3.14)──RZ(3.14)─┤  \n"
     ]
    }
   ],
   "source": [
    "print(qml.draw(VGQEC_5_encoding)(dev5_VGQEC.wires, [np.pi, np.pi, np.pi]))"
   ]
  },
  {
   "cell_type": "code",
   "execution_count": 80,
   "metadata": {},
   "outputs": [],
   "source": [
    "def repetition_code_recovery_3(wires):\n",
    "    for wire in wires:\n",
    "        qml.Hadamard(wires=wire)\n",
    "    qml.CNOT(wires=[0, 2])\n",
    "    qml.CNOT(wires=[0, 1])\n",
    "    qml.Toffoli(wires=[2, 1, 0])\n"
   ]
  },
  {
   "cell_type": "code",
   "execution_count": null,
   "metadata": {},
   "outputs": [
    {
     "name": "stdout",
     "output_type": "stream",
     "text": [
      "0: ─╭●─╭●──H──AmplitudeDamping(0.10)──H─╭●─╭●─╭X─┤  State\n",
      "1: ─╰X─│───H──H─────────────────────────│──╰X─├●─┤       \n",
      "2: ────╰X──H──H─────────────────────────╰X────╰●─┤       \n"
     ]
    }
   ],
   "source": [
    "dev3_rep_circuit = qml.device(\"default.mixed\", wires=3)\n",
    "@qml.qnode(dev3_rep_circuit)\n",
    "def circuit_3(wires, alpha):\n",
    "    #encoding\n",
    "    encoding_map_repetition(wires)\n",
    "    #noise\n",
    "    qml.AmplitudeDamping(0.1, wires=0)\n",
    "    #decoding\n",
    "    repetition_code_recovery_3(wires)\n",
    "    return qml.density_matrix(wires=0)\n",
    "    \n",
    "print(qml.draw(circuit_3)(dev3_rep_circuit.wires, 0.9))\n"
   ]
  },
  {
   "cell_type": "code",
   "execution_count": 148,
   "metadata": {},
   "outputs": [
    {
     "name": "stdout",
     "output_type": "stream",
     "text": [
      "[[1.+0.j 0.+0.j]\n",
      " [0.+0.j 0.+0.j]]\n"
     ]
    }
   ],
   "source": [
    "print(circuit_3(dev3_rep_circuit.wires, 0.1))"
   ]
  },
  {
   "cell_type": "code",
   "execution_count": 85,
   "metadata": {},
   "outputs": [],
   "source": [
    "def repetition_code_recovery_5(wires):\n",
    "    for wire in wires:\n",
    "        qml.Hadamard(wires=wire)\n",
    "    qml.CNOT(wires=[0, 4])\n",
    "    qml.CNOT(wires=[0, 3])\n",
    "    qml.CNOT(wires=[0, 2])\n",
    "    qml.CNOT(wires=[0, 1])\n",
    "\n",
    "    qml.MultiControlledX(control_wires=[1, 2, 3], wires=0)\n",
    "    qml.MultiControlledX(control_wires=[4, 3, 1], wires=0)\n",
    "    qml.MultiControlledX(control_wires=[4, 3, 2], wires=0)\n",
    "    qml.MultiControlledX(control_wires=[4, 2, 1], wires=0)\n",
    "    qml.MultiControlledX(control_wires=[4, 3, 2, 1], wires=0)"
   ]
  },
  {
   "cell_type": "code",
   "execution_count": 90,
   "metadata": {},
   "outputs": [
    {
     "name": "stdout",
     "output_type": "stream",
     "text": [
      "0: ─╭●─╭●─╭●─╭●──H──Z──H─╭●─╭●─╭●─╭●─╭X─╭X─╭X─╭X─╭X─┤  State\n",
      "1: ─╰X─│──│──│───H──H────│──│──│──╰X─├●─├●─│──├●─├●─┤       \n",
      "2: ────╰X─│──│───H──H────│──│──╰X────├●─│──├●─├●─├●─┤       \n",
      "3: ───────╰X─│───H──H────│──╰X───────╰●─├●─├●─│──├●─┤       \n",
      "4: ──────────╰X──H──H────╰X─────────────╰●─╰●─╰●─╰●─┤       \n"
     ]
    }
   ],
   "source": [
    "dev5_rep_circuit = qml.device(\"default.mixed\", wires=5)\n",
    "@qml.qnode(dev5_rep_circuit)\n",
    "def circuit_5(wires, alpha):\n",
    "    encoding_map_repetition(wires)\n",
    "    # qml.AmplitudeDamping(alpha, wires=[0])\n",
    "    #noise\n",
    "    qml.PauliZ(wires=0)\n",
    "    #recovery\n",
    "    repetition_code_recovery_5(wires)\n",
    "    \n",
    "    return qml.density_matrix(wires=0)\n",
    "\n",
    "print(qml.draw(circuit_5)(dev5_rep_circuit.wires, 0.1))\n"
   ]
  },
  {
   "cell_type": "code",
   "execution_count": 91,
   "metadata": {},
   "outputs": [
    {
     "name": "stdout",
     "output_type": "stream",
     "text": [
      "[[1.+0.j 0.+0.j]\n",
      " [0.+0.j 0.+0.j]]\n"
     ]
    }
   ],
   "source": [
    "print(circuit_5(dev5_rep_circuit.wires, 0.1))"
   ]
  },
  {
   "cell_type": "code",
   "execution_count": 20,
   "metadata": {},
   "outputs": [],
   "source": [
    "# dev_var = qml.device(\"default.qubit\", wires=5)\n",
    "# def encoding_variational(params):\n",
    "#     for wire in dev_var.wires:\n",
    "#         qml.RZ(params[0], wires=wire)\n",
    "\n",
    "#     qml.IsingZZ(params[1], wires=[0, 1])\n",
    "#     qml.IsingZZ(params[1], wires=[3, 4])\n",
    "\n",
    "#     qml.RX(params[2], wires=1)\n",
    "#     qml.RX(params[2], wires=3)\n",
    "\n",
    "#     qml.IsingZZ(params[1], wires=[1, 2])\n",
    "#     qml.IsingZZ(params[1], wires=[2, 3])\n",
    "\n",
    "#     qml.RX(params[2], wires=2)\n",
    "\n",
    "#     qml.IsingZZ(params[1], wires=[1, 2])\n",
    "#     qml.IsingZZ(params[1], wires=[2, 3])\n",
    "\n",
    "#     qml.RX(params[2], wires=1)\n",
    "#     qml.RX(params[2], wires=3)\n",
    "\n",
    "#     qml.IsingZZ(params[1], wires=[0, 1])\n",
    "#     qml.IsingZZ(params[1], wires=[1, 2])\n",
    "#     qml.IsingZZ(params[1], wires=[2, 3])\n",
    "#     qml.IsingZZ(params[1], wires=[3, 4])\n",
    "\n",
    "#     qml.RX(params[2], wires=0)\n",
    "#     qml.RX(params[2], wires=2)\n",
    "#     qml.RX(params[2], wires=4)\n",
    "\n",
    "#     qml.IsingZZ(params[1], wires=[1, 2])\n",
    "#     qml.IsingZZ(params[1], wires=[2, 3])\n",
    "\n",
    "#     qml.RX(params[2], wires=1)\n",
    "#     qml.RX(params[2], wires=2)\n",
    "#     qml.RX(params[2], wires=3)\n",
    "\n",
    "#     qml.IsingZZ(params[1], wires=[1, 2])\n",
    "#     qml.IsingZZ(params[1], wires=[2, 3])\n",
    "\n",
    "#     qml.RX(params[2], wires=2)\n",
    "\n",
    "#     qml.IsingZZ(params[1], wires=[1, 2])\n",
    "#     qml.IsingZZ(params[1], wires=[2, 3])\n",
    "\n",
    "#     qml.RX(params[2], wires=1)\n",
    "#     qml.RX(params[2], wires=3)\n",
    "\n",
    "#     qml.IsingZZ(params[1], wires=[0, 1])\n",
    "#     qml.IsingZZ(params[1], wires=[3, 4])\n",
    "\n",
    "#     qml.RX(params[2], wires=1)\n",
    "#     qml.RX(params[2], wires=3)\n",
    "\n",
    "#     qml.IsingZZ(params[1], wires=[1, 2])\n",
    "#     qml.IsingZZ(params[1], wires=[2, 3])  \n",
    "\n",
    "#     qml.RX(params[2], wires=2)\n",
    "\n",
    "#     qml.IsingZZ(params[1], wires=[1, 2])\n",
    "#     qml.IsingZZ(params[1], wires=[2, 3])  \n",
    "\n",
    "#     qml.RX(params[2], wires=1)\n",
    "#     qml.RX(params[2], wires=3)\n",
    "\n",
    "#     qml.IsingZZ(params[1], wires=[0, 1])\n",
    "#     qml.IsingZZ(params[1], wires=[3, 4])\n",
    "    \n",
    "#     qml.RX(params[2], wires=0)\n",
    "#     qml.RX(params[2], wires=4)\n",
    "\n",
    "#     for wire in dev_var.wires:\n",
    "#         qml.RZ(params[0], wires=wire)\n",
    "\n"
   ]
  },
  {
   "cell_type": "code",
   "execution_count": 27,
   "metadata": {},
   "outputs": [],
   "source": [
    "# print(qml.draw(encoding_variational)(np.array([0.1, 0.2, 0.3])))"
   ]
  }
 ],
 "metadata": {
  "kernelspec": {
   "display_name": "cpen400",
   "language": "python",
   "name": "python3"
  },
  "language_info": {
   "codemirror_mode": {
    "name": "ipython",
    "version": 3
   },
   "file_extension": ".py",
   "mimetype": "text/x-python",
   "name": "python",
   "nbconvert_exporter": "python",
   "pygments_lexer": "ipython3",
   "version": "3.10.16"
  }
 },
 "nbformat": 4,
 "nbformat_minor": 2
}
