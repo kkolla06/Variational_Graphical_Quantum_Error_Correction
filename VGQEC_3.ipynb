{
 "cells": [
  {
   "cell_type": "code",
   "execution_count": 1,
   "metadata": {},
   "outputs": [],
   "source": [
    "import pennylane as qml\n",
    "import numpy as np"
   ]
  },
  {
   "cell_type": "code",
   "execution_count": null,
   "metadata": {},
   "outputs": [],
   "source": [
    "## code for VGQEC 3 encoding\n",
    "def VGQEC_3_encoding(alpha, wires):\n",
    "    A = (1.0 + np.exp(1j * alpha)) / 2.0\n",
    "    B = (1.0 - np.exp(1j * alpha)) / 2.0\n",
    "    ancillas = np.array([A, 0, 0, B], dtype=complex)\n",
    "    qml.MottonenStatePreparation(ancillas, wires=[1, 2])\n",
    "\n",
    "    qml.CNOT(wires=[0, 1])\n",
    "    qml.CNOT(wires=[0, 2])\n",
    "\n",
    "\n"
   ]
  },
  {
   "cell_type": "code",
   "execution_count": null,
   "metadata": {},
   "outputs": [
    {
     "name": "stdout",
     "output_type": "stream",
     "text": [
      "[-1.34442674e-33+6.12323400e-17j  0.00000000e+00+0.00000000e+00j\n",
      "  0.00000000e+00+0.00000000e+00j  1.00000000e+00+2.58605321e-17j\n",
      "  0.00000000e+00+0.00000000e+00j  0.00000000e+00+0.00000000e+00j\n",
      "  0.00000000e+00+0.00000000e+00j  0.00000000e+00+0.00000000e+00j]\n"
     ]
    }
   ],
   "source": [
    "#testing the encoding circuit\n",
    "dev = qml.device(\"default.qubit\", wires=3)\n",
    "@qml.qnode(dev)\n",
    "def VGQEC_3(alpha, wires):\n",
    "    # qml.PauliX(wires=0) # Initial state \n",
    "    VGQEC_3_encoding(alpha, wires)\n",
    "\n",
    "    # return qml.state()\n",
    "\n",
    "# print(VGQEC_3(np.pi, dev.wires))"
   ]
  },
  {
   "cell_type": "code",
   "execution_count": 25,
   "metadata": {},
   "outputs": [],
   "source": [
    "#variational recovery circuit for 3 qubits\n",
    "def recovery_variational_3(beta, L , wires):\n",
    "    for i in range(2):\n",
    "        qml.RZ(beta[1], wires=i)\n",
    "\n",
    "    for l in range(L):\n",
    "        for i in range(2):\n",
    "            qml.RX(beta[0], wires=i)\n",
    "            qml.RZ(beta[1], wires=i)        \n",
    "    \n",
    "        qml.CZ(beta[2], wires=[0, 1])\n",
    "        qml.CZ(beta[2], wires=[1, 2])\n",
    "        qml.CZ(beta[2], wires=[0, 2])\n",
    "        \n",
    "\n",
    "    for i in range(wires):\n",
    "        qml.RX(beta[0], wires=i)\n",
    "        qml.RZ(beta[1], wires=i)"
   ]
  },
  {
   "cell_type": "code",
   "execution_count": null,
   "metadata": {},
   "outputs": [],
   "source": [
    "#reovery map circuit for 3 qubits (from the repetition code)\n",
    "def repetition_code_recovery_3(alpha, wires):\n",
    "    for wire in wires:\n",
    "        qml.Hadamard(wires=wire)\n",
    "    qml.CNOT(wires=[0, 2])\n",
    "    qml.CNOT(wires=[0, 1])\n",
    "    qml.Toffoli(wires=[2, 1, 0])\n"
   ]
  },
  {
   "cell_type": "code",
   "execution_count": 112,
   "metadata": {},
   "outputs": [
    {
     "name": "stdout",
     "output_type": "stream",
     "text": [
      "[[0.95      +0.00000000e+00j 0.15811388+0.00000000e+00j]\n",
      " [0.15811388+0.00000000e+00j 0.05      +2.60208521e-18j]]\n"
     ]
    }
   ],
   "source": [
    "## code for VGQEC 3 encoding\n",
    "def VGQEC_3_encoding(alpha, wires):\n",
    "    A = (1.0 + np.exp(1j * alpha)) / 2.0\n",
    "    B = (1.0 - np.exp(1j * alpha)) / 2.0\n",
    "    ancillas = np.array([A, 0, 0, B], dtype=complex)\n",
    "    qml.MottonenStatePreparation(ancillas, wires=[1, 2])\n",
    "\n",
    "    qml.CNOT(wires=[0, 1])\n",
    "    qml.CNOT(wires=[0, 2])\n",
    "\n",
    "\n",
    "#variational recovery circuit for 3 qubits\n",
    "def recovery_variational_3(beta, L , wires):\n",
    "    for i in range(2):\n",
    "        qml.RZ(beta[1], wires=i)\n",
    "\n",
    "    for l in range(L):\n",
    "        for i in range(2):\n",
    "            qml.RX(beta[0], wires=i)\n",
    "            qml.RZ(beta[1], wires=i)\n",
    "\n",
    "        qml.CZ(wires=[0, 1])\n",
    "        qml.CZ(wires=[1, 2])\n",
    "        qml.CZ(wires=[0, 2])\n",
    "\n",
    "\n",
    "    for i in range(2):\n",
    "        qml.RX(beta[0], wires=i)\n",
    "        qml.RZ(beta[1], wires=i)\n",
    "\n",
    "#reovery map circuit for 3 qubits (from the repetition code)\n",
    "def repetition_code_recovery_3(alpha, wires):\n",
    "# 1. Undo the two CNOTs\n",
    "    qml.CNOT(wires=[0, 2])\n",
    "    qml.CNOT(wires=[0, 1])\n",
    "    \n",
    "    # 2. Undo ancilla preparation\n",
    "    #    We apply the inverse of the state prep:\n",
    "    A = (1.0 + np.exp(1j * alpha)) / 2.0\n",
    "    B = (1.0 - np.exp(1j * alpha)) / 2.0\n",
    "    ancillas_dagger = np.array([np.conj(A), 0, 0, np.conj(B)], dtype=complex)\n",
    "    qml.MottonenStatePreparation(ancillas_dagger, wires=[1, 2])\n",
    "\n",
    "\n",
    "#test for VGQEC code with 3 qubits\n",
    "dev3_VGQEC_circuit = qml.device(\"default.mixed\", wires=3)\n",
    "@qml.qnode(dev3_VGQEC_circuit)\n",
    "def circuit_3(wires, alpha, beta):\n",
    "    qml.Hadamard(wires=0)\n",
    "    #encoding\n",
    "    VGQEC_3_encoding(alpha, wires)\n",
    "    #noise\n",
    "    qml.AmplitudeDamping(beta, wires=[0])\n",
    "    # qml.PauliZ(wires=0)\n",
    "    #recovery\n",
    "    # recovery_variational_3([np.pi/2, np.pi/2, np.pi/2], 2, wires)\n",
    "    repetition_code_recovery_3(alpha, wires)\n",
    "\n",
    "    return qml.density_matrix(wires=0)\n",
    "\n",
    "print(circuit_3(dev3_VGQEC_circuit.wires, np.pi/2, 0.9))"
   ]
  },
  {
   "cell_type": "code",
   "execution_count": 98,
   "metadata": {},
   "outputs": [
    {
     "name": "stdout",
     "output_type": "stream",
     "text": [
      "[[ 5.00000000e-01+1.38777878e-17j  1.11022302e-16+0.00000000e+00j]\n",
      " [-1.11022302e-16+1.38777878e-17j  5.00000000e-01+2.77555756e-17j]]\n"
     ]
    }
   ],
   "source": [
    "print(circuit_3(dev3_VGQEC_circuit.wires, 0.1))"
   ]
  }
 ],
 "metadata": {
  "kernelspec": {
   "display_name": "cpen400",
   "language": "python",
   "name": "python3"
  },
  "language_info": {
   "codemirror_mode": {
    "name": "ipython",
    "version": 3
   },
   "file_extension": ".py",
   "mimetype": "text/x-python",
   "name": "python",
   "nbconvert_exporter": "python",
   "pygments_lexer": "ipython3",
   "version": "3.10.16"
  }
 },
 "nbformat": 4,
 "nbformat_minor": 2
}
