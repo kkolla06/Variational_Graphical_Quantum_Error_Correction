{
 "cells": [
  {
   "cell_type": "code",
   "execution_count": 1,
   "metadata": {},
   "outputs": [],
   "source": [
    "import pennylane as qml\n",
    "import numpy as np"
   ]
  },
  {
   "cell_type": "code",
   "execution_count": 196,
   "metadata": {},
   "outputs": [],
   "source": [
    "## code for VGQEC 3 encoding\n",
    "def VGQEC_3_encoding(wires):\n",
    "    # A = (1.0 + np.exp(1j * alpha)) / 2.0\n",
    "    # B = (1.0 - np.exp(1j * alpha)) / 2.0\n",
    "    # ancillas = np.array([A, 0, 0, B], dtype=complex)\n",
    "    # qml.MottonenStatePreparation(ancillas, wires=[1, 2])\n",
    "\n",
    "    # qml.CNOT(wires=[0, 1])\n",
    "    # qml.CNOT(wires=[0, 2])\n",
    "    for wire in wires[1:]:\n",
    "        qml.CNOT(wires=[0, wire])\n",
    "    # for wire in wires:\n",
    "    #     qml.Hadamard(wires=wire)\n",
    "\n",
    "\n"
   ]
  },
  {
   "cell_type": "code",
   "execution_count": null,
   "metadata": {},
   "outputs": [
    {
     "name": "stdout",
     "output_type": "stream",
     "text": [
      "[-1.34442674e-33+6.12323400e-17j  0.00000000e+00+0.00000000e+00j\n",
      "  0.00000000e+00+0.00000000e+00j  1.00000000e+00+2.58605321e-17j\n",
      "  0.00000000e+00+0.00000000e+00j  0.00000000e+00+0.00000000e+00j\n",
      "  0.00000000e+00+0.00000000e+00j  0.00000000e+00+0.00000000e+00j]\n"
     ]
    }
   ],
   "source": [
    "# #testing the encoding circuit\n",
    "# dev = qml.device(\"default.qubit\", wires=3)\n",
    "# @qml.qnode(dev)\n",
    "# def VGQEC_3(alpha, wires):\n",
    "#     # qml.PauliX(wires=0) # Initial state \n",
    "#     VGQEC_3_encoding(alpha, wires)\n",
    "\n",
    "#     # return qml.state()\n",
    "\n",
    "# # print(VGQEC_3(np.pi, dev.wires))"
   ]
  },
  {
   "cell_type": "code",
   "execution_count": 246,
   "metadata": {},
   "outputs": [],
   "source": [
    "\n",
    "#variational recovery circuit for 3 qubits\n",
    "def encoding_variational_3(alpha, L , wires):\n",
    "    for i in range(L):\n",
    "        qml.RX(alpha[0], wires=wires[0])     \n",
    "        qml.RX(alpha[1], wires=wires[1])\n",
    "        qml.RX(alpha[2], wires=wires[2])\n",
    "\n",
    "        qml.RY(alpha[3], wires=wires[0])\n",
    "        qml.RY(alpha[4], wires=wires[1])\n",
    "        qml.RY(alpha[5], wires=wires[2]) \n",
    "    \n",
    "    qml.CZ(wires=[0, 1])\n",
    "    qml.CZ(wires=[1, 2])\n",
    "    qml.CZ(wires=[0, 2])\n"
   ]
  },
  {
   "cell_type": "code",
   "execution_count": null,
   "metadata": {},
   "outputs": [],
   "source": [
    "\n",
    "def recovery_variational_3(beta, L, wires):\n",
    "    \n",
    "    # rzz_pairs = [\n",
    "    #     (0 , 1), (1, 2), (2, 3), (3, 4),\n",
    "    #     (0, 2), (2, 4),\n",
    "    #     (1, 3), \n",
    "    #     (0, 4), \n",
    "    #     (0, 3),\n",
    "    #     (1, 4)\n",
    "    # ]\n",
    "\n",
    "    qml.RZ(beta[0], wires=wires[0])\n",
    "    qml.RZ(beta[1], wires=wires[1])\n",
    "    qml.RZ(beta[2], wires=wires[2])\n",
    "    qml.RZ(beta[3], wires=wires[3])\n",
    "    qml.RZ(beta[4], wires=wires[4])\n",
    "\n",
    "    for i in range(L):\n",
    "\n",
    "        qml.RX(beta[5], wires=wires[0])\n",
    "        qml.RX(beta[6], wires=wires[1])\n",
    "        qml.RX(beta[7], wires=wires[2])\n",
    "        qml.RX(beta[8], wires=wires[3])\n",
    "        qml.RX(beta[9], wires=wires[4])\n",
    "\n",
    "        qml.RZ(beta[0], wires=wires[0])\n",
    "        qml.RZ(beta[1], wires=wires[1])\n",
    "        qml.RZ(beta[2], wires=wires[2])\n",
    "        qml.RZ(beta[3], wires=wires[3])\n",
    "        qml.RZ(beta[4], wires=wires[4])\n",
    "\n",
    "        qml.IsingZZ(beta[10], wires=[0, 1])\n",
    "        qml.IsingZZ(beta[11], wires=[1, 2])\n",
    "        qml.IsingZZ(beta[12], wires=[2, 3])\n",
    "        qml.IsingZZ(beta[13], wires=[3, 4])\n",
    "        qml.IsingZZ(beta[14], wires=[0, 2])\n",
    "        qml.IsingZZ(beta[15], wires=[2, 4])\n",
    "        qml.IsingZZ(beta[16], wires=[1, 3])\n",
    "        qml.IsingZZ(beta[17], wires=[0, 3])\n",
    "        qml.IsingZZ(beta[18], wires=[1, 4])\n",
    "        qml.IsingZZ(beta[19], wires=[0, 4])\n",
    "\n",
    "        qml.RX(beta[5], wires=wires[0])\n",
    "        qml.RX(beta[6], wires=wires[1])\n",
    "        qml.RX(beta[7], wires=wires[2])\n",
    "        qml.RX(beta[8], wires=wires[3])\n",
    "        qml.RX(beta[9], wires=wires[4])\n",
    "\n",
    "        qml.RZ(beta[0], wires=wires[0])\n",
    "        qml.RZ(beta[1], wires=wires[1])\n",
    "        qml.RZ(beta[2], wires=wires[2])\n",
    "        qml.RZ(beta[3], wires=wires[3])\n",
    "        qml.RZ(beta[4], wires=wires[4])\n",
    "\n",
    "\n",
    "    # for wire in wires:\n",
    "    #     qml.RZ(beta[1], wires=wire)\n",
    "\n",
    "    # for l in range(L):\n",
    "    #     for wire in wires:\n",
    "    #         qml.RX(beta[0], wires=wire)\n",
    "    #         qml.RZ(beta[1], wires=wire)        \n",
    "\n",
    "    #     for (i, j) in rzz_pairs:\n",
    "    #         qml.IsingZZ(beta[2], wires=[i, j])\n",
    "\n",
    "    # for wire in wires:\n",
    "    #     qml.RX(beta[0], wires=wire)\n",
    "    #     qml.RZ(beta[1], wires=wire) "
   ]
  },
  {
   "cell_type": "code",
   "execution_count": 199,
   "metadata": {},
   "outputs": [],
   "source": [
    "\n",
    "#reovery map circuit for 3 qubits (from the repetition code)\n",
    "def repetition_code_recovery_3(wires):\n",
    "    # for wire in wires:\n",
    "    #     qml.Hadamard(wires=wire)\n",
    "    qml.CNOT(wires=[0, 2])\n",
    "    qml.CNOT(wires=[0, 1])\n",
    "    qml.Toffoli(wires=[2, 1, 0])\n"
   ]
  },
  {
   "cell_type": "code",
   "execution_count": null,
   "metadata": {},
   "outputs": [
    {
     "name": "stdout",
     "output_type": "stream",
     "text": [
      "[[ 1.54637959e-64-1.80331614e-128j -4.49855881e-64+4.59169004e-049j]\n",
      " [-4.49855881e-64-4.59169004e-049j  1.00000000e+00+1.15412233e-128j]]\n"
     ]
    }
   ],
   "source": [
    "# ## code for VGQEC 3 encoding\n",
    "# def VGQEC_3_encoding(alpha, wires):\n",
    "#     # A = (1.0 + np.exp(1j * alpha)) / 2.0\n",
    "#     # B = (1.0 - np.exp(1j * alpha)) / 2.0\n",
    "#     # ancillas = np.array([A, 0, 0, B], dtype=complex)\n",
    "#     # qml.MottonenStatePreparation(ancillas, wires=[1, 2])\n",
    "\n",
    "#     # qml.CNOT(wires=[0, 1])\n",
    "#     # qml.CNOT(wires=[0, 2])\n",
    "#     for wire in wires:\n",
    "#         qml.Hadamard(wires=wire)\n",
    "#     qml.CNOT(wires=[0, 2])\n",
    "#     qml.CNOT(wires=[0, 1])\n",
    "#     qml.Toffoli(wires=[2, 1, 0])\n",
    "\n",
    "\n",
    "# #variational recovery circuit for 3 qubits\n",
    "# def recovery_variational_3(beta, L , wires):\n",
    "#     for i in range(2):\n",
    "#         qml.RZ(beta[1], wires=i)\n",
    "\n",
    "#     for l in range(L):\n",
    "#         for i in range(2):\n",
    "#             qml.RX(beta[0], wires=i)\n",
    "#             qml.RZ(beta[1], wires=i)\n",
    "\n",
    "#         qml.CZ(wires=[0, 1])\n",
    "#         qml.CZ(wires=[1, 2])\n",
    "#         qml.CZ(wires=[0, 2])\n",
    "\n",
    "\n",
    "#     for i in range(2):\n",
    "#         qml.RX(beta[0], wires=i)\n",
    "#         qml.RZ(beta[1], wires=i)\n",
    "\n",
    "# #reovery map circuit for 3 qubits (from the repetition code)\n",
    "# def repetition_code_recovery_3(alpha, wires):\n",
    "# # 1. Undo the two CNOTs\n",
    "#     qml.CNOT(wires=[0, 2])\n",
    "#     qml.CNOT(wires=[0, 1])\n",
    "    \n",
    "#     # 2. Undo ancilla preparation\n",
    "#     #    We apply the inverse of the state prep:\n",
    "#     A = (1.0 + np.exp(1j * alpha)) / 2.0\n",
    "#     B = (1.0 - np.exp(1j * alpha)) / 2.0\n",
    "#     ancillas_dagger = np.array([np.conj(A), 0, 0, np.conj(B)], dtype=complex)\n",
    "#     qml.MottonenStatePreparation(ancillas_dagger, wires=[1, 2])\n",
    "\n",
    "\n",
    "#test for VGQEC code with 3 qubits\n",
    "dev3_VGQEC_circuit = qml.device(\"default.mixed\", wires=5)\n",
    "@qml.qnode(dev3_VGQEC_circuit)\n",
    "def circuit_3(wires, alpha, beta, gamma):\n",
    "    # qml.Hadamard(wires=0)\n",
    "    #encoding\n",
    "    VGQEC_3_encoding(wires)\n",
    "    encoding_variational_3(alpha, 2, wires)\n",
    "    # #noise\n",
    "    # # qml.AmplitudeDamping(gamma, wires=[0])\n",
    "    # # qml.AmplitudeDamping(gamma, wires=[1])\n",
    "    # # qml.AmplitudeDamping(gamma, wires=[2])\n",
    "\n",
    "    # # qml.PauliZ(wires=0)\n",
    "    # #recovery\n",
    "    recovery_variational_3(beta, 2, wires)\n",
    "    repetition_code_recovery_3(wires)\n",
    "\n",
    "    return qml.density_matrix(wires=0)\n",
    "\n",
    "print(circuit_3(dev3_VGQEC_circuit.wires, [np.pi, np.pi], [-np.pi, -np.pi, np.pi], 0.1))"
   ]
  },
  {
   "cell_type": "code",
   "execution_count": null,
   "metadata": {},
   "outputs": [
    {
     "data": {
      "text/plain": [
       "<function pennylane.drawer.draw.draw.<locals>.wrapper>"
      ]
     },
     "execution_count": 206,
     "metadata": {},
     "output_type": "execute_result"
    }
   ],
   "source": [
    "qml.draw(circuit_3(dev3_VGQEC_circuit.wires, [np.pi, -np.pi/2, -np.pi/2], [-np.pi/2, -np.pi/2, -np.pi/2], 0.2))"
   ]
  }
 ],
 "metadata": {
  "kernelspec": {
   "display_name": "cpen400",
   "language": "python",
   "name": "python3"
  },
  "language_info": {
   "codemirror_mode": {
    "name": "ipython",
    "version": 3
   },
   "file_extension": ".py",
   "mimetype": "text/x-python",
   "name": "python",
   "nbconvert_exporter": "python",
   "pygments_lexer": "ipython3",
   "version": "3.10.16"
  }
 },
 "nbformat": 4,
 "nbformat_minor": 2
}
