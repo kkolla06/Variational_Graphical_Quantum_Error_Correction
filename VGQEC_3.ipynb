{
 "cells": [
  {
   "cell_type": "code",
   "execution_count": 1,
   "metadata": {},
   "outputs": [],
   "source": [
    "import pennylane as qml\n",
    "import numpy as np"
   ]
  },
  {
   "cell_type": "code",
   "execution_count": 5,
   "metadata": {},
   "outputs": [],
   "source": [
    "## code\n",
    "def VGQEC_3_encoding(alpha, wires):\n",
    "    A = (1.0 + np.exp(1j * alpha)) / 2.0\n",
    "    B = (1.0 - np.exp(1j * alpha)) / 2.0\n",
    "    ancillas = np.array([A, 0, 0, B], dtype=complex)\n",
    "    qml.MottonenStatePreparation(ancillas, wires=[1, 2])\n",
    "\n",
    "    qml.CNOT(wires=[0, 1])\n",
    "    qml.CNOT(wires=[0, 2])\n"
   ]
  },
  {
   "cell_type": "code",
   "execution_count": 8,
   "metadata": {},
   "outputs": [
    {
     "name": "stdout",
     "output_type": "stream",
     "text": [
      "[0.35355339+0.35355339j 0.        +0.j         0.        +0.j\n",
      " 0.35355339-0.35355339j 0.35355339-0.35355339j 0.        +0.j\n",
      " 0.        +0.j         0.35355339+0.35355339j]\n"
     ]
    }
   ],
   "source": [
    "dev = qml.device(\"default.qubit\", wires=3)\n",
    "@qml.qnode(dev)\n",
    "def VGQEC_3(alpha, wires):\n",
    "    qml.Hadamard(wires=0) # Initial state \n",
    "    VGQEC_3_encoding(alpha, wires)\n",
    "\n",
    "    return qml.state()\n",
    "\n",
    "print(VGQEC_3(np.pi/2, dev.wires))"
   ]
  }
 ],
 "metadata": {
  "kernelspec": {
   "display_name": "cpen400",
   "language": "python",
   "name": "python3"
  },
  "language_info": {
   "codemirror_mode": {
    "name": "ipython",
    "version": 3
   },
   "file_extension": ".py",
   "mimetype": "text/x-python",
   "name": "python",
   "nbconvert_exporter": "python",
   "pygments_lexer": "ipython3",
   "version": "3.10.16"
  }
 },
 "nbformat": 4,
 "nbformat_minor": 2
}
