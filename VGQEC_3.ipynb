{
 "cells": [
  {
   "cell_type": "code",
   "execution_count": 1,
   "metadata": {},
   "outputs": [],
   "source": [
    "import pennylane as qml\n",
    "import numpy as np"
   ]
  },
  {
   "cell_type": "code",
   "execution_count": null,
   "metadata": {},
   "outputs": [],
   "source": [
    "## code for VGQEC 3 encoding\n",
    "def VGQEC_3_encoding(alpha, wires):\n",
    "    A = (1.0 + np.exp(1j * alpha)) / 2.0\n",
    "    B = (1.0 - np.exp(1j * alpha)) / 2.0\n",
    "    ancillas = np.array([A, 0, 0, B], dtype=complex)\n",
    "    qml.MottonenStatePreparation(ancillas, wires=[1, 2])\n",
    "\n",
    "    qml.CNOT(wires=[0, 1])\n",
    "    qml.CNOT(wires=[0, 2])\n"
   ]
  },
  {
   "cell_type": "code",
   "execution_count": null,
   "metadata": {},
   "outputs": [
    {
     "name": "stdout",
     "output_type": "stream",
     "text": [
      "[0.35355339+0.35355339j 0.        +0.j         0.        +0.j\n",
      " 0.35355339-0.35355339j 0.35355339-0.35355339j 0.        +0.j\n",
      " 0.        +0.j         0.35355339+0.35355339j]\n"
     ]
    }
   ],
   "source": [
    "#testing the encoding circuit\n",
    "dev = qml.device(\"default.qubit\", wires=3)\n",
    "@qml.qnode(dev)\n",
    "def VGQEC_3(alpha, wires):\n",
    "    qml.Hadamard(wires=0) # Initial state \n",
    "    VGQEC_3_encoding(alpha, wires)\n",
    "\n",
    "    return qml.state()\n",
    "\n",
    "print(VGQEC_3(np.pi/2, dev.wires))"
   ]
  },
  {
   "cell_type": "code",
   "execution_count": 25,
   "metadata": {},
   "outputs": [],
   "source": [
    "#variational recovery circuit for 3 qubits\n",
    "def recovery_variational_3(beta, L , wires):\n",
    "    for i in range(2):\n",
    "        qml.RZ(beta[1], wires=i)\n",
    "\n",
    "    for l in range(L):\n",
    "        for i in range(2):\n",
    "            qml.RX(beta[0], wires=i)\n",
    "            qml.RZ(beta[1], wires=i)        \n",
    "    \n",
    "        qml.CZ(beta[2], wires=[0, 1])\n",
    "        qml.CZ(beta[2], wires=[1, 2])\n",
    "        qml.CZ(beta[2], wires=[0, 2])\n",
    "        \n",
    "\n",
    "    for i in range(wires):\n",
    "        qml.RX(beta[0], wires=i)\n",
    "        qml.RZ(beta[1], wires=i)"
   ]
  },
  {
   "cell_type": "code",
   "execution_count": 18,
   "metadata": {},
   "outputs": [],
   "source": [
    "#reovery map circuit for 3 qubits (from the repetition code)\n",
    "def repetition_code_recovery_3(wires):\n",
    "    for wire in wires:\n",
    "        qml.Hadamard(wires=wire)\n",
    "    qml.CNOT(wires=[0, 2])\n",
    "    qml.CNOT(wires=[0, 1])\n",
    "    qml.Toffoli(wires=[2, 1, 0])"
   ]
  },
  {
   "cell_type": "code",
   "execution_count": 78,
   "metadata": {},
   "outputs": [],
   "source": [
    "## code for VGQEC 3 encoding\n",
    "def VGQEC_3_encoding(alpha, wires):\n",
    "    A = (1.0 + np.exp(1j * alpha)) / 2.0\n",
    "    B = (1.0 - np.exp(1j * alpha)) / 2.0\n",
    "    ancillas = np.array([A, 0, 0, B], dtype=complex)\n",
    "    qml.MottonenStatePreparation(ancillas, wires=[1, 2])\n",
    "\n",
    "    qml.CNOT(wires=[0, 1])\n",
    "    qml.CNOT(wires=[0, 2])\n",
    "\n",
    "\n",
    "#variational recovery circuit for 3 qubits\n",
    "def recovery_variational_3(beta, L , wires):\n",
    "    for i in range(2):\n",
    "        qml.RZ(beta[1], wires=i)\n",
    "\n",
    "    for l in range(L):\n",
    "        for i in range(2):\n",
    "            qml.RX(beta[0], wires=i)\n",
    "            qml.RZ(beta[1], wires=i)\n",
    "\n",
    "        qml.CZ(wires=[0, 1])\n",
    "        qml.CZ(wires=[1, 2])\n",
    "        qml.CZ(wires=[0, 2])\n",
    "\n",
    "\n",
    "    for i in range(2):\n",
    "        qml.RX(beta[0], wires=i)\n",
    "        qml.RZ(beta[1], wires=i)\n",
    "\n",
    "#reovery map circuit for 3 qubits (from the repetition code)\n",
    "def repetition_code_recovery_3(wires):\n",
    "    for wire in wires:\n",
    "        qml.Hadamard(wires=wire)\n",
    "    qml.CNOT(wires=[0, 2])\n",
    "    qml.CNOT(wires=[0, 1])\n",
    "    qml.Toffoli(wires=[2, 1, 0])\n",
    "\n",
    "\n",
    "#test for VGQEC code with 3 qubits\n",
    "dev3_VGQEC_circuit = qml.device(\"default.mixed\", wires=3)\n",
    "@qml.qnode(dev3_VGQEC_circuit)\n",
    "def circuit_3(wires, alpha):\n",
    "    # qml.Hadamard(wires=0)\n",
    "    #encoding\n",
    "    VGQEC_3(np.pi/2, wires)\n",
    "    #noise\n",
    "    qml.AmplitudeDamping(alpha, wires=[0])\n",
    "    # qml.PauliZ(wires=0)\n",
    "    #recovery\n",
    "    recovery_variational_3([np.pi/2, -np.pi/2, -np.pi/2], 2, wires)\n",
    "    repetition_code_recovery_3(wires)\n",
    "\n",
    "    return qml.density_matrix(wires=0)"
   ]
  },
  {
   "cell_type": "code",
   "execution_count": 79,
   "metadata": {},
   "outputs": [
    {
     "name": "stdout",
     "output_type": "stream",
     "text": [
      "[[0.5+0.j   0. -0.25j]\n",
      " [0. +0.25j 0.5+0.j  ]]\n"
     ]
    }
   ],
   "source": [
    "print(circuit_3(dev3_VGQEC_circuit.wires, 0.1))"
   ]
  }
 ],
 "metadata": {
  "kernelspec": {
   "display_name": "cpen400",
   "language": "python",
   "name": "python3"
  },
  "language_info": {
   "codemirror_mode": {
    "name": "ipython",
    "version": 3
   },
   "file_extension": ".py",
   "mimetype": "text/x-python",
   "name": "python",
   "nbconvert_exporter": "python",
   "pygments_lexer": "ipython3",
   "version": "3.10.16"
  }
 },
 "nbformat": 4,
 "nbformat_minor": 2
}
