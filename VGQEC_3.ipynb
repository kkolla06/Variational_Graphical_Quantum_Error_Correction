{
 "cells": [
  {
   "cell_type": "code",
   "execution_count": 1,
   "metadata": {},
   "outputs": [],
   "source": [
    "import pennylane as qml\n",
    "import numpy as np"
   ]
  },
  {
   "cell_type": "code",
   "execution_count": null,
   "metadata": {},
   "outputs": [],
   "source": [
    "## code for VGQEC 3 encoding\n",
    "def VGQEC_3_encoding(alpha, wires):\n",
    "    A = (1.0 + np.exp(1j * alpha)) / 2.0\n",
    "    B = (1.0 - np.exp(1j * alpha)) / 2.0\n",
    "    ancillas = np.array([A, 0, 0, B], dtype=complex)\n",
    "    qml.MottonenStatePreparation(ancillas, wires=[1, 2])\n",
    "\n",
    "    qml.CNOT(wires=[0, 1])\n",
    "    qml.CNOT(wires=[0, 2])\n"
   ]
  },
  {
   "cell_type": "code",
   "execution_count": null,
   "metadata": {},
   "outputs": [
    {
     "name": "stdout",
     "output_type": "stream",
     "text": [
      "[0.35355339+0.35355339j 0.        +0.j         0.        +0.j\n",
      " 0.35355339-0.35355339j 0.35355339-0.35355339j 0.        +0.j\n",
      " 0.        +0.j         0.35355339+0.35355339j]\n"
     ]
    }
   ],
   "source": [
    "#testing the encoding circuit\n",
    "dev = qml.device(\"default.qubit\", wires=3)\n",
    "@qml.qnode(dev)\n",
    "def VGQEC_3(alpha, wires):\n",
    "    qml.Hadamard(wires=0) # Initial state \n",
    "    VGQEC_3_encoding(alpha, wires)\n",
    "\n",
    "    return qml.state()\n",
    "\n",
    "print(VGQEC_3(np.pi/2, dev.wires))"
   ]
  },
  {
   "cell_type": "code",
   "execution_count": 10,
   "metadata": {},
   "outputs": [],
   "source": [
    "#variational recovery circuit for 3 qubits\n",
    "def recovery_variational_3(beta, L = 2, wires=3):\n",
    "    for i in range(wires):\n",
    "        qml.RZ(beta[1], wires=i)\n",
    "\n",
    "    for l in range(L):\n",
    "        for i in range(wires):\n",
    "            qml.RX(beta[0], wires=i)\n",
    "            qml.RZ(beta[1], wires=i)        \n",
    "    \n",
    "        qml.CZ(beta[2], wires=[0, 1])\n",
    "        qml.CZ(beta[2], wires=[1, 2])\n",
    "        qml.CZ(beta[2], wires=[0, 2])\n",
    "        \n",
    "\n",
    "    for i in range(wires):\n",
    "        qml.RX(beta[0], wires=i)\n",
    "        qml.RZ(beta[1], wires=i)"
   ]
  },
  {
   "cell_type": "code",
   "execution_count": 9,
   "metadata": {},
   "outputs": [],
   "source": [
    "#reovery map circuit for 3 qubits (from the repetition code)\n",
    "def repetition_code_recovery_3(wires):\n",
    "    for wire in wires:\n",
    "        qml.Hadamard(wires=wire)\n",
    "    qml.CNOT(wires=[0, 2])\n",
    "    qml.CNOT(wires=[0, 1])\n",
    "    qml.Toffoli(wires=[2, 1, 0])"
   ]
  }
 ],
 "metadata": {
  "kernelspec": {
   "display_name": "cpen400",
   "language": "python",
   "name": "python3"
  },
  "language_info": {
   "codemirror_mode": {
    "name": "ipython",
    "version": 3
   },
   "file_extension": ".py",
   "mimetype": "text/x-python",
   "name": "python",
   "nbconvert_exporter": "python",
   "pygments_lexer": "ipython3",
   "version": "3.10.16"
  }
 },
 "nbformat": 4,
 "nbformat_minor": 2
}
