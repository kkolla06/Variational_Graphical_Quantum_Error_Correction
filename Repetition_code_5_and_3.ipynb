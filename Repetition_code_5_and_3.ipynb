{
 "cells": [
  {
   "cell_type": "code",
   "execution_count": 2,
   "metadata": {},
   "outputs": [],
   "source": [
    "import pennylane as qml\n",
    "import numpy as np"
   ]
  },
  {
   "cell_type": "code",
   "execution_count": 82,
   "metadata": {},
   "outputs": [],
   "source": [
    "def encoding_map_repetition(wires):\n",
    "    for wire in wires[1:]:\n",
    "        qml.CNOT(wires=[0, wire])\n",
    "    for wire in wires:\n",
    "        qml.Hadamard(wires=wire)\n"
   ]
  },
  {
   "cell_type": "code",
   "execution_count": 83,
   "metadata": {},
   "outputs": [],
   "source": [
    "def repetition_code_recovery_3(wires):\n",
    "    for wire in wires:\n",
    "        qml.Hadamard(wires=wire)\n",
    "    qml.CNOT(wires=[0, 2])\n",
    "    qml.CNOT(wires=[0, 1])\n",
    "    qml.Toffoli(wires=[2, 1, 0])\n"
   ]
  },
  {
   "cell_type": "code",
   "execution_count": 5,
   "metadata": {},
   "outputs": [],
   "source": [
    "def repetition_code_recovery_5(wires):\n",
    "    for wire in wires:\n",
    "        qml.Hadamard(wires=wire)\n",
    "    qml.CNOT(wires=[0, 4])\n",
    "    qml.CNOT(wires=[0, 3])\n",
    "    qml.CNOT(wires=[0, 2])\n",
    "    qml.CNOT(wires=[0, 1])\n",
    "\n",
    "    qml.MultiControlledX(control_wires=[1, 2, 3], wires=0)\n",
    "    qml.MultiControlledX(control_wires=[4, 3, 1], wires=0)\n",
    "    qml.MultiControlledX(control_wires=[4, 3, 2], wires=0)\n",
    "    qml.MultiControlledX(control_wires=[4, 2, 1], wires=0)\n",
    "    qml.MultiControlledX(control_wires=[4, 3, 2, 1], wires=0)"
   ]
  },
  {
   "cell_type": "code",
   "execution_count": 86,
   "metadata": {},
   "outputs": [],
   "source": [
    "#test for repetition code with 3 qubits\n",
    "\n",
    "dev3_rep_circuit = qml.device(\"default.mixed\", wires=3, shots=1000)\n",
    "@qml.qnode(dev3_rep_circuit)\n",
    "def circuit_3(wires, alpha):\n",
    "    #initial state\n",
    "    qml.Hadamard(wires=0)\n",
    "    #encoding\n",
    "    encoding_map_repetition(wires)\n",
    "    #noise\n",
    "    qml.AmplitudeDamping(alpha, wires=0)\n",
    "    qml.AmplitudeDamping(alpha, wires=1)\n",
    "    qml.AmplitudeDamping(alpha, wires=2)\n",
    "    #decoding\n",
    "    repetition_code_recovery_3(wires)\n",
    "    return qml.density_matrix(wires=0)"
   ]
  },
  {
   "cell_type": "code",
   "execution_count": 38,
   "metadata": {},
   "outputs": [
    {
     "name": "stdout",
     "output_type": "stream",
     "text": [
      "[[0.5 +0.j 0.45+0.j]\n",
      " [0.45+0.j 0.5 +0.j]]\n"
     ]
    }
   ],
   "source": [
    "print(circuit_3(dev3_rep_circuit.wires, 0.1))"
   ]
  },
  {
   "cell_type": "code",
   "execution_count": 55,
   "metadata": {},
   "outputs": [],
   "source": [
    "#test for repetition code with 5 qubits\n",
    "dev5_rep_circuit = qml.device(\"default.mixed\", wires=5)\n",
    "@qml.qnode(dev5_rep_circuit)\n",
    "def circuit_5(wires, alpha):\n",
    "    # qml.Hadamard(wires=0)\n",
    "    #encoding\n",
    "    encoding_map_repetition(wires)\n",
    "    #noise\n",
    "    qml.AmplitudeDamping(alpha, wires=[0])\n",
    "    qml.AmplitudeDamping(alpha, wires=[1])\n",
    "    qml.AmplitudeDamping(alpha, wires=[2])\n",
    "    qml.AmplitudeDamping(alpha, wires=[3])\n",
    "    qml.AmplitudeDamping(alpha, wires=[4])\n",
    "    # qml.PauliX(wires=0)\n",
    "    #recovery\n",
    "    repetition_code_recovery_5(wires)\n",
    "    \n",
    "    return qml.density_matrix(wires=0)"
   ]
  },
  {
   "cell_type": "code",
   "execution_count": 56,
   "metadata": {},
   "outputs": [
    {
     "name": "stdout",
     "output_type": "stream",
     "text": [
      "[[9.99837513e-01+0.j 5.00000000e-06+0.j]\n",
      " [5.00000000e-06+0.j 1.62487340e-04+0.j]]\n"
     ]
    }
   ],
   "source": [
    "print(circuit_5(dev5_rep_circuit.wires, 0.1))"
   ]
  },
  {
   "cell_type": "code",
   "execution_count": 87,
   "metadata": {},
   "outputs": [],
   "source": [
    "dev_analytic = qml.device(\"default.mixed\", wires=3, shots=1000)\n",
    "@qml.qnode(dev_analytic)\n",
    "def ideal_logical_zero():\n",
    "    qml.Hadamard(wires=0)\n",
    "    return qml.density_matrix(wires=[0])"
   ]
  },
  {
   "cell_type": "code",
   "execution_count": 88,
   "metadata": {},
   "outputs": [
    {
     "name": "stderr",
     "output_type": "stream",
     "text": [
      "c:\\Users\\linab\\anaconda3\\envs\\cpen400\\lib\\site-packages\\pennylane\\devices\\_qubit_device.py:686: UserWarning: Requested state or density matrix with finite shots; the returned state information is analytic and is unaffected by sampling. To silence this warning, set shots=None on the device.\n",
      "  warnings.warn(\n"
     ]
    },
    {
     "name": "stdout",
     "output_type": "stream",
     "text": [
      "gamma =  0 ; avg fid =  1.0000000000000135 \n",
      "\n",
      "gamma =  0.01 ; avg fid =  0.9851500104581986 \n",
      "\n",
      "gamma =  0.02 ; avg fid =  0.9706000000000133 \n",
      "\n",
      "gamma =  0.03 ; avg fid =  0.9563500000000141 \n",
      "\n",
      "gamma =  0.04 ; avg fid =  0.9424000000000133 \n",
      "\n",
      "gamma =  0.05 ; avg fid =  0.9287500000000145 \n",
      "\n",
      "gamma =  0.060000000000000005 ; avg fid =  0.915400000000013 \n",
      "\n",
      "gamma =  0.07 ; avg fid =  0.9023500000000128 \n",
      "\n",
      "gamma =  0.08 ; avg fid =  0.8896000000000137 \n",
      "\n",
      "gamma =  0.09 ; avg fid =  0.877150000000014 \n",
      "\n",
      "gamma =  0.09999999999999999 ; avg fid =  0.8650000000000138 \n",
      "\n",
      "gamma =  0.10999999999999999 ; avg fid =  0.8531500000000137 \n",
      "\n",
      "gamma =  0.11999999999999998 ; avg fid =  0.8416000000000138 \n",
      "\n",
      "gamma =  0.12999999999999998 ; avg fid =  0.8303500000000128 \n",
      "\n",
      "gamma =  0.13999999999999999 ; avg fid =  0.8194000000000137 \n",
      "\n",
      "gamma =  0.15 ; avg fid =  0.8087500134007066 \n",
      "\n",
      "gamma =  0.16 ; avg fid =  0.7984000094149059 \n",
      "\n",
      "gamma =  0.17 ; avg fid =  0.7883500000000148 \n",
      "\n",
      "gamma =  0.18000000000000002 ; avg fid =  0.7786000092974306 \n",
      "\n",
      "gamma =  0.19000000000000003 ; avg fid =  0.7691500130685108 \n",
      "\n",
      "gamma =  0.20000000000000004 ; avg fid =  0.7600000000000128 \n",
      "\n",
      "gamma =  0.21000000000000005 ; avg fid =  0.7511500000000139 \n",
      "\n",
      "gamma =  0.22000000000000006 ; avg fid =  0.7426000000000142 \n",
      "\n",
      "gamma =  0.23000000000000007 ; avg fid =  0.7343500090293673 \n",
      "\n",
      "gamma =  0.24000000000000007 ; avg fid =  0.726400000000013 \n",
      "\n",
      "gamma =  0.25000000000000006 ; avg fid =  0.7187500000000141 \n",
      "\n",
      "gamma =  0.26000000000000006 ; avg fid =  0.7114000000000127 \n",
      "\n",
      "gamma =  0.2700000000000001 ; avg fid =  0.7043500088430082 \n",
      "\n",
      "gamma =  0.2800000000000001 ; avg fid =  0.6976000088005346 \n",
      "\n",
      "gamma =  0.2900000000000001 ; avg fid =  0.6911500087597553 \n",
      "\n",
      "gamma =  0.3000000000000001 ; avg fid =  0.6850000087206953 \n",
      "\n",
      "gamma =  0.3100000000000001 ; avg fid =  0.6791500086833766 \n",
      "\n",
      "gamma =  0.3200000000000001 ; avg fid =  0.6736000086478241 \n",
      "\n",
      "gamma =  0.3300000000000001 ; avg fid =  0.6683500121821123 \n",
      "\n",
      "gamma =  0.34000000000000014 ; avg fid =  0.6634000085820989 \n",
      "\n",
      "gamma =  0.35000000000000014 ; avg fid =  0.6587500000000145 \n",
      "\n",
      "gamma =  0.36000000000000015 ; avg fid =  0.6544000000000135 \n",
      "\n",
      "gamma =  0.37000000000000016 ; avg fid =  0.6503500120169476 \n",
      "\n",
      "gamma =  0.38000000000000017 ; avg fid =  0.6466000084727355 \n",
      "\n",
      "gamma =  0.3900000000000002 ; avg fid =  0.6431500000000134 \n",
      "\n",
      "gamma =  0.4000000000000002 ; avg fid =  0.6400000000000144 \n",
      "\n",
      "gamma =  0.4100000000000002 ; avg fid =  0.6371500084105934 \n",
      "\n",
      "gamma =  0.4200000000000002 ; avg fid =  0.6346000000000134 \n",
      "\n",
      "gamma =  0.4300000000000002 ; avg fid =  0.6323500000000133 \n",
      "\n",
      "gamma =  0.4400000000000002 ; avg fid =  0.6304000000000132 \n",
      "\n",
      "gamma =  0.45000000000000023 ; avg fid =  0.6287500000000141 \n",
      "\n",
      "gamma =  0.46000000000000024 ; avg fid =  0.6274000000000147 \n",
      "\n",
      "gamma =  0.47000000000000025 ; avg fid =  0.6263500000000135 \n",
      "\n",
      "gamma =  0.48000000000000026 ; avg fid =  0.6256000000000135 \n",
      "\n",
      "gamma =  0.49000000000000027 ; avg fid =  0.6251500000000147 \n",
      "\n"
     ]
    }
   ],
   "source": [
    "gamma_list = []\n",
    "fidelity_list = []\n",
    "\n",
    "if __name__ == '__main__':\n",
    "    gamma = 0\n",
    "    while(gamma<=0.5):\n",
    "        fid = 0\n",
    "        \n",
    "        for i in range(50):\n",
    "            recovered_rho = circuit_3(dev3_rep_circuit.wires, gamma)\n",
    "            ideal_rho = ideal_logical_zero()\n",
    "\n",
    "            fidelity = qml.math.fidelity(recovered_rho, ideal_rho)\n",
    "#             print(\"Fidelity after recovery:\", fidelity)\n",
    "    #             print(\"-\" * 40)\n",
    "            fid += fidelity\n",
    "        \n",
    "        gamma_list.append(gamma)\n",
    "        fidelity_list.append(fid/50)\n",
    "\n",
    "        print(\"gamma = \", gamma, \"; avg fid = \", (fid/50), \"\\n\")\n",
    "        gamma+=0.01"
   ]
  },
  {
   "cell_type": "code",
   "execution_count": 59,
   "metadata": {},
   "outputs": [],
   "source": [
    "import matplotlib.pyplot as plt"
   ]
  },
  {
   "cell_type": "code",
   "execution_count": 89,
   "metadata": {},
   "outputs": [
    {
     "data": {
      "image/png": "[encoded data removed]",
      "text/plain": [
       "<Figure size 640x480 with 1 Axes>"
      ]
     },
     "metadata": {},
     "output_type": "display_data"
    }
   ],
   "source": [
    "plt.plot(gamma_list, fidelity_list)\n",
    "plt.xlabel(\"Amplitude damping γ\")\n",
    "plt.ylabel(\"Average fidelity\")\n",
    "plt.title(\"Fidelity vs Amplitude Damping for VGQEC Recovery\")\n",
    "plt.ylim(0.75, 1.01)  # set y-axis bounds\n",
    "plt.grid(True)\n",
    "plt.show()"
   ]
  }
 ],
 "metadata": {
  "kernelspec": {
   "display_name": "cpen400",
   "language": "python",
   "name": "python3"
  },
  "language_info": {
   "codemirror_mode": {
    "name": "ipython",
    "version": 3
   },
   "file_extension": ".py",
   "mimetype": "text/x-python",
   "name": "python",
   "nbconvert_exporter": "python",
   "pygments_lexer": "ipython3",
   "version": "3.10.16"
  }
 },
 "nbformat": 4,
 "nbformat_minor": 2
}
