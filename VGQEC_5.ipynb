{
 "cells": [
  {
   "cell_type": "code",
   "execution_count": 1,
   "metadata": {},
   "outputs": [],
   "source": [
    "import pennylane as qml\n",
    "import numpy as np"
   ]
  },
  {
   "cell_type": "code",
   "execution_count": 2,
   "metadata": {},
   "outputs": [],
   "source": [
    "def encoding_map_repetition(wires):\n",
    "    for wire in wires[1:]:\n",
    "        qml.CNOT(wires=[0, wire])\n",
    "    for wire in wires:\n",
    "        qml.Hadamard(wires=wire)"
   ]
  },
  {
   "cell_type": "code",
   "execution_count": 3,
   "metadata": {},
   "outputs": [],
   "source": [
    "def Variation_circuit_5(wires, alpha):\n",
    "    for wire in wires:\n",
    "        qml.RZ(alpha[0], wires=wire)\n",
    "\n",
    "    qml.IsingZZ(alpha[1], wires=[0, 1])\n",
    "    qml.IsingZZ(alpha[1], wires=[3, 4])\n",
    "\n",
    "    qml.RX(alpha[2], wires=1)\n",
    "    qml.RX(alpha[2], wires=3)\n",
    "\n",
    "    qml.IsingZZ(alpha[1], wires=[1, 2])\n",
    "    qml.IsingZZ(alpha[1], wires=[2, 3])\n",
    "\n",
    "    qml.RX(alpha[2], wires=2)\n",
    "\n",
    "    qml.IsingZZ(alpha[1], wires=[1, 2])\n",
    "    qml.IsingZZ(alpha[1], wires=[2, 3])\n",
    "\n",
    "    qml.RX(alpha[2], wires=1)\n",
    "    qml.RX(alpha[2], wires=3)\n",
    "\n",
    "    qml.IsingZZ(alpha[1], wires=[0, 1])\n",
    "    qml.IsingZZ(alpha[1], wires=[1, 2])\n",
    "    qml.IsingZZ(alpha[1], wires=[2, 3])\n",
    "    qml.IsingZZ(alpha[1], wires=[3, 4])\n",
    "\n",
    "    qml.RX(alpha[2], wires=0)\n",
    "    qml.RX(alpha[2], wires=2)\n",
    "    qml.RX(alpha[2], wires=4)\n",
    "\n",
    "    qml.IsingZZ(alpha[1], wires=[1, 2])\n",
    "    qml.IsingZZ(alpha[1], wires=[2, 3])\n",
    "\n",
    "    qml.RX(alpha[2], wires=1)\n",
    "    qml.RX(alpha[2], wires=2)\n",
    "    qml.RX(alpha[2], wires=3)\n",
    "\n",
    "    qml.IsingZZ(alpha[1], wires=[1, 2])\n",
    "    qml.IsingZZ(alpha[1], wires=[2, 3])\n",
    "\n",
    "    qml.RX(alpha[2], wires=2)\n",
    "\n",
    "    qml.IsingZZ(alpha[1], wires=[1, 2])\n",
    "    qml.IsingZZ(alpha[1], wires=[2, 3])\n",
    "\n",
    "    qml.RX(alpha[2], wires=1)\n",
    "    qml.RX(alpha[2], wires=3)\n",
    "\n",
    "    qml.IsingZZ(alpha[1], wires=[0, 1])\n",
    "    qml.IsingZZ(alpha[1], wires=[3, 4])\n",
    "\n",
    "    qml.RX(alpha[2], wires=1)\n",
    "    qml.RX(alpha[2], wires=3)\n",
    "\n",
    "    qml.IsingZZ(alpha[1], wires=[1, 2])\n",
    "    qml.IsingZZ(alpha[1], wires=[2, 3])  \n",
    "\n",
    "    qml.RX(alpha[2], wires=2)\n",
    "\n",
    "    qml.IsingZZ(alpha[1], wires=[1, 2])\n",
    "    qml.IsingZZ(alpha[1], wires=[2, 3])  \n",
    "\n",
    "    qml.RX(alpha[2], wires=1)\n",
    "    qml.RX(alpha[2], wires=3)\n",
    "\n",
    "    qml.IsingZZ(alpha[1], wires=[0, 1])\n",
    "    qml.IsingZZ(alpha[1], wires=[3, 4])\n",
    "    \n",
    "    qml.RX(alpha[2], wires=0)\n",
    "    qml.RX(alpha[2], wires=4)\n",
    "\n",
    "    for wire in wires:\n",
    "        qml.RZ(alpha[0], wires=wire)"
   ]
  },
  {
   "cell_type": "code",
   "execution_count": 4,
   "metadata": {},
   "outputs": [],
   "source": [
    "dev = qml.device(\"default.qubit\", wires=5)\n",
    "def VGQEC_5_encoding(wires, alpha):\n",
    "    encoding_map_repetition(wires)\n",
    "    qml.IsingZZ(-np.pi/2, wires=[4, 0])\n",
    "    qml.IsingZZ(-np.pi/2, wires=[0, 1])\n",
    "    qml.IsingZZ(-np.pi/2, wires=[1, 2])\n",
    "    qml.IsingZZ(-np.pi/2, wires=[2, 3])\n",
    "    qml.IsingZZ(-np.pi/2, wires=[3, 4])\n",
    "    Variation_circuit_5(wires, alpha)"
   ]
  },
  {
   "cell_type": "code",
   "execution_count": 5,
   "metadata": {},
   "outputs": [
    {
     "name": "stdout",
     "output_type": "stream",
     "text": [
      "0: ─╭●─╭●─╭●─╭●──H─╭IsingZZ(-1.57)─╭IsingZZ(-1.57)──RZ(3.14)───────────────────────╭IsingZZ(3.14)─\n",
      "1: ─╰X─│──│──│───H─│───────────────╰IsingZZ(-1.57)─╭IsingZZ(-1.57)──RZ(3.14)───────╰IsingZZ(3.14)─\n",
      "2: ────╰X─│──│───H─│───────────────────────────────╰IsingZZ(-1.57)─╭IsingZZ(-1.57)──RZ(3.14)──────\n",
      "3: ───────╰X─│───H─│───────────────────────────────────────────────╰IsingZZ(-1.57)─╭IsingZZ(-1.57)\n",
      "4: ──────────╰X──H─╰IsingZZ(-1.57)─────────────────────────────────────────────────╰IsingZZ(-1.57)\n",
      "\n",
      "───────────────────────────────────────────────────────────────────────────────────────────\n",
      "───RX(3.14)─╭IsingZZ(3.14)────────────────────────────────────╭IsingZZ(3.14)──RX(3.14)─────\n",
      "────────────╰IsingZZ(3.14)───────────╭IsingZZ(3.14)──RX(3.14)─╰IsingZZ(3.14)─╭IsingZZ(3.14)\n",
      "───RZ(3.14)─╭IsingZZ(3.14)──RX(3.14)─╰IsingZZ(3.14)──────────────────────────╰IsingZZ(3.14)\n",
      "───RZ(3.14)─╰IsingZZ(3.14)─────────────────────────────────────────────────────────────────\n",
      "\n",
      "──╭IsingZZ(3.14)──RX(3.14)─────────────────────────────────────────────────────────────────\n",
      "──╰IsingZZ(3.14)─╭IsingZZ(3.14)───────────────────────────────╭IsingZZ(3.14)──RX(3.14)─────\n",
      "─────────────────╰IsingZZ(3.14)─╭IsingZZ(3.14)──RX(3.14)──────╰IsingZZ(3.14)─╭IsingZZ(3.14)\n",
      "───RX(3.14)─────────────────────╰IsingZZ(3.14)─╭IsingZZ(3.14)────────────────╰IsingZZ(3.14)\n",
      "───────────────────────────────────────────────╰IsingZZ(3.14)──RX(3.14)────────────────────\n",
      "\n",
      "──────────────────────────────────────────────────────────────────────────────────╭IsingZZ(3.14)\n",
      "────────────╭IsingZZ(3.14)──────────────────────────╭IsingZZ(3.14)──RX(3.14)──────╰IsingZZ(3.14)\n",
      "───RX(3.14)─╰IsingZZ(3.14)─╭IsingZZ(3.14)──RX(3.14)─╰IsingZZ(3.14)─╭IsingZZ(3.14)───────────────\n",
      "───RX(3.14)────────────────╰IsingZZ(3.14)──────────────────────────╰IsingZZ(3.14)──RX(3.14)─────\n",
      "────────────────────────────────────────────────────────────────────────────────────────────────\n",
      "\n",
      "──────────────────────────────────────────────────────────────────────────────────────\n",
      "───RX(3.14)──────╭IsingZZ(3.14)──────────────────────────╭IsingZZ(3.14)──RX(3.14)─────\n",
      "─────────────────╰IsingZZ(3.14)─╭IsingZZ(3.14)──RX(3.14)─╰IsingZZ(3.14)─╭IsingZZ(3.14)\n",
      "──╭IsingZZ(3.14)──RX(3.14)──────╰IsingZZ(3.14)──────────────────────────╰IsingZZ(3.14)\n",
      "──╰IsingZZ(3.14)──────────────────────────────────────────────────────────────────────\n",
      "\n",
      "──╭IsingZZ(3.14)──RX(3.14)───────RZ(3.14)───────────┤  \n",
      "──╰IsingZZ(3.14)──RZ(3.14)──────────────────────────┤  \n",
      "───RZ(3.14)─────────────────────────────────────────┤  \n",
      "───RX(3.14)──────╭IsingZZ(3.14)──RZ(3.14)───────────┤  \n",
      "─────────────────╰IsingZZ(3.14)──RX(3.14)──RZ(3.14)─┤  \n"
     ]
    }
   ],
   "source": [
    "print(qml.draw(VGQEC_5_encoding)(dev.wires, [np.pi, np.pi, np.pi]))"
   ]
  }
 ],
 "metadata": {
  "kernelspec": {
   "display_name": "cpen400",
   "language": "python",
   "name": "python3"
  },
  "language_info": {
   "codemirror_mode": {
    "name": "ipython",
    "version": 3
   },
   "file_extension": ".py",
   "mimetype": "text/x-python",
   "name": "python",
   "nbconvert_exporter": "python",
   "pygments_lexer": "ipython3",
   "version": "3.10.16"
  }
 },
 "nbformat": 4,
 "nbformat_minor": 2
}
