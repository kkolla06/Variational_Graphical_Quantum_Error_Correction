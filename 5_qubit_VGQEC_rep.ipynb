{
 "cells": [
  {
   "cell_type": "code",
   "execution_count": 11,
   "id": "f028013f",
   "metadata": {},
   "outputs": [],
   "source": [
    "import pennylane as qml\n",
    "import numpy as np"
   ]
  },
  {
   "cell_type": "code",
   "execution_count": null,
   "id": "ac3d652f",
   "metadata": {},
   "outputs": [],
   "source": [
    "def encoding_map_repetition(wires):\n",
    "    for wire in wires[1:]:\n",
    "        qml.CNOT(wires=[0, wire])\n",
    "\n",
    "\n",
    "#TRY WITH AND WITHOUT THE HADAMARD GATE IN THE ENCODING AND RECOVERY. DO NOT KNWO WHAT WORKS BEST"
   ]
  },
  {
   "cell_type": "code",
   "execution_count": 14,
   "id": "d6205704",
   "metadata": {},
   "outputs": [
    {
     "name": "stdout",
     "output_type": "stream",
     "text": [
      "(<Figure size 700x600 with 1 Axes>, <Axes: >)\n"
     ]
    },
    {
     "data": {
      "image/png": "[encoded data removed]",
      "text/plain": [
       "<Figure size 700x600 with 1 Axes>"
      ]
     },
     "metadata": {},
     "output_type": "display_data"
    }
   ],
   "source": [
    "print(qml.draw_mpl(encoding_map_repetition)(wires=[0, 1, 2, 3, 4]))"
   ]
  },
  {
   "cell_type": "code",
   "execution_count": 38,
   "id": "eeb1075e",
   "metadata": {},
   "outputs": [],
   "source": [
    "def repetition_code_recovery_5(wires):\n",
    "    for wire in wires:\n",
    "        qml.Hadamard(wires=wire)\n",
    "    qml.CNOT(wires=[0, 4])\n",
    "    qml.CNOT(wires=[0, 3])\n",
    "    qml.CNOT(wires=[0, 2])\n",
    "    qml.CNOT(wires=[0, 1])\n",
    "\n",
    "    qml.MultiControlledX(control_wires=[1, 2, 3], wires=0)\n",
    "    qml.MultiControlledX(control_wires=[4, 3, 1], wires=0)\n",
    "    qml.MultiControlledX(control_wires=[4, 3, 2], wires=0)\n",
    "    qml.MultiControlledX(control_wires=[4, 2, 1], wires=0)\n",
    "    qml.MultiControlledX(control_wires=[4, 3, 2, 1], wires=0)"
   ]
  },
  {
   "cell_type": "code",
   "execution_count": null,
   "id": "52ccc004",
   "metadata": {},
   "outputs": [],
   "source": [
    "def encoding_variation_circuit_5(wires, alpha):\n",
    "\n",
    "    qml.RZ(alpha[0], wires=0)\n",
    "    qml.RZ(alpha[46], wires=1)\n",
    "    qml.RZ(alpha[47], wires=2)\n",
    "    qml.RZ(alpha[48], wires=3)\n",
    "    qml.RZ(alpha[49], wires=4)\n",
    "\n",
    "    qml.IsingZZ(alpha[1], wires=[0, 1])\n",
    "    qml.IsingZZ(alpha[2], wires=[3, 4])\n",
    "\n",
    "    qml.RX(alpha[3], wires=1)\n",
    "    qml.RX(alpha[4], wires=3)\n",
    "\n",
    "    qml.IsingZZ(alpha[5], wires=[1, 2])\n",
    "    qml.IsingZZ(alpha[6], wires=[2, 3])\n",
    "\n",
    "    qml.RX(alpha[7], wires=2)\n",
    "\n",
    "    qml.IsingZZ(alpha[8], wires=[1, 2])\n",
    "    qml.IsingZZ(alpha[9], wires=[2, 3])\n",
    "\n",
    "    qml.RX(alpha[10], wires=1)\n",
    "    qml.RX(alpha[11], wires=3)\n",
    "\n",
    "    qml.IsingZZ(alpha[12], wires=[0, 1])\n",
    "    qml.IsingZZ(alpha[13], wires=[1, 2])\n",
    "    qml.IsingZZ(alpha[14], wires=[2, 3])\n",
    "    qml.IsingZZ(alpha[15], wires=[3, 4])\n",
    "\n",
    "    qml.RX(alpha[16], wires=0)\n",
    "    qml.RX(alpha[17], wires=2)\n",
    "    qml.RX(alpha[18], wires=4)\n",
    "\n",
    "    qml.IsingZZ(alpha[19], wires=[1, 2])\n",
    "    qml.IsingZZ(alpha[20], wires=[2, 3])\n",
    "\n",
    "    qml.RX(alpha[21], wires=1)\n",
    "    qml.RX(alpha[22], wires=2)\n",
    "    qml.RX(alpha[23], wires=3)\n",
    "\n",
    "    qml.IsingZZ(alpha[24], wires=[1, 2])\n",
    "    qml.IsingZZ(alpha[25], wires=[2, 3])\n",
    "\n",
    "    qml.RX(alpha[26], wires=2)\n",
    "\n",
    "    qml.IsingZZ(alpha[27], wires=[1, 2])\n",
    "    qml.IsingZZ(alpha[28], wires=[2, 3])\n",
    "\n",
    "    qml.RX(alpha[29], wires=1)\n",
    "    qml.RX(alpha[30], wires=3)\n",
    "\n",
    "    qml.IsingZZ(alpha[31], wires=[0, 1])\n",
    "    qml.IsingZZ(alpha[32], wires=[3, 4])\n",
    "\n",
    "    qml.RX(alpha[33], wires=1)\n",
    "    qml.RX(alpha[34], wires=3)\n",
    "\n",
    "    qml.IsingZZ(alpha[35], wires=[1, 2])\n",
    "    qml.IsingZZ(alpha[36], wires=[2, 3])  \n",
    "\n",
    "    qml.RX(alpha[37], wires=2)\n",
    "\n",
    "    qml.IsingZZ(alpha[38], wires=[1, 2])\n",
    "    qml.IsingZZ(alpha[39], wires=[2, 3])  \n",
    "\n",
    "    qml.RX(alpha[40], wires=1)\n",
    "    qml.RX(alpha[41], wires=3)\n",
    "\n",
    "    qml.IsingZZ(alpha[42], wires=[0, 1])\n",
    "    qml.IsingZZ(alpha[43], wires=[3, 4])\n",
    "    \n",
    "    qml.RX(alpha[44], wires=0)\n",
    "    qml.RX(alpha[45], wires=4)\n",
    "\n",
    "    qml.RZ(alpha[50], wires=0)\n",
    "    qml.RZ(alpha[51], wires=1)\n",
    "    qml.RZ(alpha[52], wires=2)\n",
    "    qml.RZ(alpha[53], wires=3)\n",
    "    qml.RZ(alpha[54], wires=4)"
   ]
  },
  {
   "cell_type": "code",
   "execution_count": null,
   "id": "013c166f",
   "metadata": {},
   "outputs": [],
   "source": [
    "def recovery_variational_5(beta, wires, L):\n",
    "\n",
    "    qml.RZ(beta[0], wires=wires[0])\n",
    "    qml.RZ(beta[1], wires=wires[1])\n",
    "    qml.RZ(beta[2], wires=wires[2])\n",
    "    qml.RZ(beta[3], wires=wires[3])\n",
    "    qml.RZ(beta[4], wires=wires[4])\n",
    "\n",
    "    for i in range(L):\n",
    "\n",
    "        qml.RX(beta[5], wires=wires[0])\n",
    "        qml.RX(beta[6], wires=wires[1])\n",
    "        qml.RX(beta[7], wires=wires[2])\n",
    "        qml.RX(beta[8], wires=wires[3])\n",
    "        qml.RX(beta[9], wires=wires[4])\n",
    "\n",
    "        qml.RZ(beta[10], wires=wires[0])\n",
    "        qml.RZ(beta[11], wires=wires[1])\n",
    "        qml.RZ(beta[12], wires=wires[2])\n",
    "        qml.RZ(beta[13], wires=wires[3])\n",
    "        qml.RZ(beta[14], wires=wires[4])\n",
    "\n",
    "        qml.IsingZZ(beta[15], wires=[0, 1])\n",
    "        qml.IsingZZ(beta[16], wires=[1, 2])\n",
    "        qml.IsingZZ(beta[17], wires=[2, 3])\n",
    "        qml.IsingZZ(beta[18], wires=[3, 4])\n",
    "        qml.IsingZZ(beta[19], wires=[0, 2])\n",
    "        qml.IsingZZ(beta[20], wires=[2, 4])\n",
    "        qml.IsingZZ(beta[21], wires=[1, 3])\n",
    "        qml.IsingZZ(beta[22], wires=[0, 3])\n",
    "        qml.IsingZZ(beta[23], wires=[1, 4])\n",
    "        qml.IsingZZ(beta[24], wires=[0, 4])\n",
    "        qml.IsingZZ(beta[25], wires=[0, 5])\n",
    "        qml.IsingZZ(beta[26], wires=[0, 6])\n",
    "        qml.IsingZZ(beta[27], wires=[1, 5])\n",
    "        qml.IsingZZ(beta[28], wires=[1, 6])\n",
    "        qml.IsingZZ(beta[29], wires=[2, 5])\n",
    "        qml.IsingZZ(beta[30], wires=[2, 6])\n",
    "        qml.IsingZZ(beta[31], wires=[3, 5])\n",
    "        qml.IsingZZ(beta[32], wires=[3, 6])\n",
    "        qml.IsingZZ(beta[33], wires=[4, 5])\n",
    "        qml.IsingZZ(beta[34], wires=[4, 6])\n",
    "        qml.IsingZZ(beta[35], wires=[5, 6])\n",
    "        \n",
    "\n",
    "    qml.RX(beta[36], wires=wires[0])\n",
    "    qml.RX(beta[37], wires=wires[1])\n",
    "    qml.RX(beta[38], wires=wires[2])\n",
    "    qml.RX(beta[39], wires=wires[3])\n",
    "    qml.RX(beta[40], wires=wires[4])\n",
    "\n",
    "    qml.RZ(beta[41], wires=wires[0])\n",
    "    qml.RZ(beta[42], wires=wires[1])\n",
    "    qml.RZ(beta[43], wires=wires[2])\n",
    "    qml.RZ(beta[44], wires=wires[3])\n",
    "    qml.RZ(beta[45], wires=wires[4])"
   ]
  },
  {
   "cell_type": "code",
   "execution_count": 39,
   "id": "b7ccf44a",
   "metadata": {},
   "outputs": [],
   "source": [
    "#test for repetition code with 5 qubits\n",
    "dev5_rep_circuit = qml.device(\"default.mixed\", wires=5)\n",
    "@qml.qnode(dev5_rep_circuit)\n",
    "def circuit_5(wires, alpha):\n",
    "    # qml.Hadamard(wires=0)\n",
    "    # qml.PauliX(wires=0)\n",
    "    #encoding\n",
    "    encoding_map_repetition(wires)\n",
    "    #noise\n",
    "    # qml.AmplitudeDamping(alpha, wires=[0])\n",
    "    # qml.AmplitudeDamping(alpha, wires=[1])\n",
    "    # qml.AmplitudeDamping(alpha, wires=[2])\n",
    "    # qml.AmplitudeDamping(alpha, wires=[3])\n",
    "    # qml.AmplitudeDamping(alpha, wires=[4])\n",
    "    # qml.PauliX(wires=0)\n",
    "    qml.BitFlip(alpha, wires=[0])\n",
    "    #recovery\n",
    "    repetition_code_recovery_5(wires)\n",
    "    \n",
    "    return qml.density_matrix(wires=0)"
   ]
  },
  {
   "cell_type": "code",
   "execution_count": 40,
   "id": "1923b773",
   "metadata": {},
   "outputs": [
    {
     "name": "stdout",
     "output_type": "stream",
     "text": [
      "[[1.+0.j 0.+0.j]\n",
      " [0.+0.j 0.+0.j]]\n"
     ]
    }
   ],
   "source": [
    "print(circuit_5([0, 1, 2, 3, 4], 0.5))"
   ]
  }
 ],
 "metadata": {
  "kernelspec": {
   "display_name": "cpen400",
   "language": "python",
   "name": "python3"
  },
  "language_info": {
   "codemirror_mode": {
    "name": "ipython",
    "version": 3
   },
   "file_extension": ".py",
   "mimetype": "text/x-python",
   "name": "python",
   "nbconvert_exporter": "python",
   "pygments_lexer": "ipython3",
   "version": "3.10.16"
  }
 },
 "nbformat": 4,
 "nbformat_minor": 5
}
