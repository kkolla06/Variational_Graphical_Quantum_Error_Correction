{
 "cells": [
  {
   "cell_type": "code",
   "execution_count": 1,
   "id": "f028013f",
   "metadata": {},
   "outputs": [],
   "source": [
    "import pennylane as qml\n",
    "import numpy as np"
   ]
  },
  {
   "cell_type": "code",
   "execution_count": 37,
   "id": "ac3d652f",
   "metadata": {},
   "outputs": [],
   "source": [
    "def encoding_map_repetition(wires):\n",
    "    for wire in wires[1:]:\n",
    "        qml.CNOT(wires=[0, wire])\n",
    "    for wire in wires:\n",
    "        qml.Hadamard(wires=wire)"
   ]
  },
  {
   "cell_type": "code",
   "execution_count": 38,
   "id": "eeb1075e",
   "metadata": {},
   "outputs": [],
   "source": [
    "def repetition_code_recovery_5(wires):\n",
    "    for wire in wires:\n",
    "        qml.Hadamard(wires=wire)\n",
    "    qml.CNOT(wires=[0, 4])\n",
    "    qml.CNOT(wires=[0, 3])\n",
    "    qml.CNOT(wires=[0, 2])\n",
    "    qml.CNOT(wires=[0, 1])\n",
    "\n",
    "    qml.MultiControlledX(control_wires=[1, 2, 3], wires=0)\n",
    "    qml.MultiControlledX(control_wires=[4, 3, 1], wires=0)\n",
    "    qml.MultiControlledX(control_wires=[4, 3, 2], wires=0)\n",
    "    qml.MultiControlledX(control_wires=[4, 2, 1], wires=0)\n",
    "    qml.MultiControlledX(control_wires=[4, 3, 2, 1], wires=0)"
   ]
  },
  {
   "cell_type": "code",
   "execution_count": 39,
   "id": "b7ccf44a",
   "metadata": {},
   "outputs": [],
   "source": [
    "#test for repetition code with 5 qubits\n",
    "dev5_rep_circuit = qml.device(\"default.mixed\", wires=5)\n",
    "@qml.qnode(dev5_rep_circuit)\n",
    "def circuit_5(wires, alpha):\n",
    "    # qml.Hadamard(wires=0)\n",
    "    # qml.PauliX(wires=0)\n",
    "    #encoding\n",
    "    encoding_map_repetition(wires)\n",
    "    #noise\n",
    "    # qml.AmplitudeDamping(alpha, wires=[0])\n",
    "    # qml.AmplitudeDamping(alpha, wires=[1])\n",
    "    # qml.AmplitudeDamping(alpha, wires=[2])\n",
    "    # qml.AmplitudeDamping(alpha, wires=[3])\n",
    "    # qml.AmplitudeDamping(alpha, wires=[4])\n",
    "    # qml.PauliX(wires=0)\n",
    "    qml.BitFlip(alpha, wires=[0])\n",
    "    #recovery\n",
    "    repetition_code_recovery_5(wires)\n",
    "    \n",
    "    return qml.density_matrix(wires=0)"
   ]
  },
  {
   "cell_type": "code",
   "execution_count": 40,
   "id": "1923b773",
   "metadata": {},
   "outputs": [
    {
     "name": "stdout",
     "output_type": "stream",
     "text": [
      "[[1.+0.j 0.+0.j]\n",
      " [0.+0.j 0.+0.j]]\n"
     ]
    }
   ],
   "source": [
    "print(circuit_5([0, 1, 2, 3, 4], 0.5))"
   ]
  }
 ],
 "metadata": {
  "kernelspec": {
   "display_name": "cpen400",
   "language": "python",
   "name": "python3"
  },
  "language_info": {
   "codemirror_mode": {
    "name": "ipython",
    "version": 3
   },
   "file_extension": ".py",
   "mimetype": "text/x-python",
   "name": "python",
   "nbconvert_exporter": "python",
   "pygments_lexer": "ipython3",
   "version": "3.10.16"
  }
 },
 "nbformat": 4,
 "nbformat_minor": 5
}
